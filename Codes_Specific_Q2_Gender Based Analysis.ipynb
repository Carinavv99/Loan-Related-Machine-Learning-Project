{
  "cells": [
    {
      "cell_type": "code",
      "execution_count": 1,
      "metadata": {
        "colab": {
          "base_uri": "https://localhost:8080/"
        },
        "id": "Kuqrjvg_1VWi",
        "outputId": "246a5360-6963-4a8d-b135-ea49344f148e"
      },
      "outputs": [
        {
          "output_type": "stream",
          "name": "stdout",
          "text": [
            "Mounted at /content/drive\n"
          ]
        }
      ],
      "source": [
        "from google.colab import drive\n",
        "\n",
        "drive.mount('/content/drive')"
      ],
      "id": "Kuqrjvg_1VWi"
    },
    {
      "cell_type": "code",
      "execution_count": 2,
      "metadata": {
        "id": "37fce13b"
      },
      "outputs": [],
      "source": [
        "import pandas as pd\n",
        "import numpy as np\n",
        "import matplotlib.pyplot as plt"
      ],
      "id": "37fce13b"
    },
    {
      "cell_type": "code",
      "execution_count": 3,
      "metadata": {
        "colab": {
          "base_uri": "https://localhost:8080/",
          "height": 256
        },
        "id": "019081ec",
        "outputId": "1cdd3852-b577-4ab7-a249-a7d10ee995e2"
      },
      "outputs": [
        {
          "output_type": "execute_result",
          "data": {
            "text/plain": [
              "   SK_ID_CURR  TARGET NAME_CONTRACT_TYPE CODE_GENDER FLAG_OWN_CAR  \\\n",
              "0      100002       1         Cash loans           M            N   \n",
              "1      100003       0         Cash loans           F            N   \n",
              "2      100004       0    Revolving loans           M            Y   \n",
              "3      100006       0         Cash loans           F            N   \n",
              "4      100007       0         Cash loans           M            N   \n",
              "\n",
              "  FLAG_OWN_REALTY  CNT_CHILDREN  AMT_INCOME_TOTAL  AMT_CREDIT  AMT_ANNUITY  \\\n",
              "0               Y             0          202500.0    406597.5      24700.5   \n",
              "1               N             0          270000.0   1293502.5      35698.5   \n",
              "2               Y             0           67500.0    135000.0       6750.0   \n",
              "3               Y             0          135000.0    312682.5      29686.5   \n",
              "4               Y             0          121500.0    513000.0      21865.5   \n",
              "\n",
              "   ...  FLAG_DOCUMENT_18 FLAG_DOCUMENT_19 FLAG_DOCUMENT_20 FLAG_DOCUMENT_21  \\\n",
              "0  ...                 0                0                0                0   \n",
              "1  ...                 0                0                0                0   \n",
              "2  ...                 0                0                0                0   \n",
              "3  ...                 0                0                0                0   \n",
              "4  ...                 0                0                0                0   \n",
              "\n",
              "  AMT_REQ_CREDIT_BUREAU_HOUR AMT_REQ_CREDIT_BUREAU_DAY  \\\n",
              "0                        0.0                       0.0   \n",
              "1                        0.0                       0.0   \n",
              "2                        0.0                       0.0   \n",
              "3                        NaN                       NaN   \n",
              "4                        0.0                       0.0   \n",
              "\n",
              "   AMT_REQ_CREDIT_BUREAU_WEEK  AMT_REQ_CREDIT_BUREAU_MON  \\\n",
              "0                         0.0                        0.0   \n",
              "1                         0.0                        0.0   \n",
              "2                         0.0                        0.0   \n",
              "3                         NaN                        NaN   \n",
              "4                         0.0                        0.0   \n",
              "\n",
              "   AMT_REQ_CREDIT_BUREAU_QRT  AMT_REQ_CREDIT_BUREAU_YEAR  \n",
              "0                        0.0                         1.0  \n",
              "1                        0.0                         0.0  \n",
              "2                        0.0                         0.0  \n",
              "3                        NaN                         NaN  \n",
              "4                        0.0                         0.0  \n",
              "\n",
              "[5 rows x 122 columns]"
            ],
            "text/html": [
              "\n",
              "  <div id=\"df-22761bbb-21d8-4dfc-92ed-84560972cccd\" class=\"colab-df-container\">\n",
              "    <div>\n",
              "<style scoped>\n",
              "    .dataframe tbody tr th:only-of-type {\n",
              "        vertical-align: middle;\n",
              "    }\n",
              "\n",
              "    .dataframe tbody tr th {\n",
              "        vertical-align: top;\n",
              "    }\n",
              "\n",
              "    .dataframe thead th {\n",
              "        text-align: right;\n",
              "    }\n",
              "</style>\n",
              "<table border=\"1\" class=\"dataframe\">\n",
              "  <thead>\n",
              "    <tr style=\"text-align: right;\">\n",
              "      <th></th>\n",
              "      <th>SK_ID_CURR</th>\n",
              "      <th>TARGET</th>\n",
              "      <th>NAME_CONTRACT_TYPE</th>\n",
              "      <th>CODE_GENDER</th>\n",
              "      <th>FLAG_OWN_CAR</th>\n",
              "      <th>FLAG_OWN_REALTY</th>\n",
              "      <th>CNT_CHILDREN</th>\n",
              "      <th>AMT_INCOME_TOTAL</th>\n",
              "      <th>AMT_CREDIT</th>\n",
              "      <th>AMT_ANNUITY</th>\n",
              "      <th>...</th>\n",
              "      <th>FLAG_DOCUMENT_18</th>\n",
              "      <th>FLAG_DOCUMENT_19</th>\n",
              "      <th>FLAG_DOCUMENT_20</th>\n",
              "      <th>FLAG_DOCUMENT_21</th>\n",
              "      <th>AMT_REQ_CREDIT_BUREAU_HOUR</th>\n",
              "      <th>AMT_REQ_CREDIT_BUREAU_DAY</th>\n",
              "      <th>AMT_REQ_CREDIT_BUREAU_WEEK</th>\n",
              "      <th>AMT_REQ_CREDIT_BUREAU_MON</th>\n",
              "      <th>AMT_REQ_CREDIT_BUREAU_QRT</th>\n",
              "      <th>AMT_REQ_CREDIT_BUREAU_YEAR</th>\n",
              "    </tr>\n",
              "  </thead>\n",
              "  <tbody>\n",
              "    <tr>\n",
              "      <th>0</th>\n",
              "      <td>100002</td>\n",
              "      <td>1</td>\n",
              "      <td>Cash loans</td>\n",
              "      <td>M</td>\n",
              "      <td>N</td>\n",
              "      <td>Y</td>\n",
              "      <td>0</td>\n",
              "      <td>202500.0</td>\n",
              "      <td>406597.5</td>\n",
              "      <td>24700.5</td>\n",
              "      <td>...</td>\n",
              "      <td>0</td>\n",
              "      <td>0</td>\n",
              "      <td>0</td>\n",
              "      <td>0</td>\n",
              "      <td>0.0</td>\n",
              "      <td>0.0</td>\n",
              "      <td>0.0</td>\n",
              "      <td>0.0</td>\n",
              "      <td>0.0</td>\n",
              "      <td>1.0</td>\n",
              "    </tr>\n",
              "    <tr>\n",
              "      <th>1</th>\n",
              "      <td>100003</td>\n",
              "      <td>0</td>\n",
              "      <td>Cash loans</td>\n",
              "      <td>F</td>\n",
              "      <td>N</td>\n",
              "      <td>N</td>\n",
              "      <td>0</td>\n",
              "      <td>270000.0</td>\n",
              "      <td>1293502.5</td>\n",
              "      <td>35698.5</td>\n",
              "      <td>...</td>\n",
              "      <td>0</td>\n",
              "      <td>0</td>\n",
              "      <td>0</td>\n",
              "      <td>0</td>\n",
              "      <td>0.0</td>\n",
              "      <td>0.0</td>\n",
              "      <td>0.0</td>\n",
              "      <td>0.0</td>\n",
              "      <td>0.0</td>\n",
              "      <td>0.0</td>\n",
              "    </tr>\n",
              "    <tr>\n",
              "      <th>2</th>\n",
              "      <td>100004</td>\n",
              "      <td>0</td>\n",
              "      <td>Revolving loans</td>\n",
              "      <td>M</td>\n",
              "      <td>Y</td>\n",
              "      <td>Y</td>\n",
              "      <td>0</td>\n",
              "      <td>67500.0</td>\n",
              "      <td>135000.0</td>\n",
              "      <td>6750.0</td>\n",
              "      <td>...</td>\n",
              "      <td>0</td>\n",
              "      <td>0</td>\n",
              "      <td>0</td>\n",
              "      <td>0</td>\n",
              "      <td>0.0</td>\n",
              "      <td>0.0</td>\n",
              "      <td>0.0</td>\n",
              "      <td>0.0</td>\n",
              "      <td>0.0</td>\n",
              "      <td>0.0</td>\n",
              "    </tr>\n",
              "    <tr>\n",
              "      <th>3</th>\n",
              "      <td>100006</td>\n",
              "      <td>0</td>\n",
              "      <td>Cash loans</td>\n",
              "      <td>F</td>\n",
              "      <td>N</td>\n",
              "      <td>Y</td>\n",
              "      <td>0</td>\n",
              "      <td>135000.0</td>\n",
              "      <td>312682.5</td>\n",
              "      <td>29686.5</td>\n",
              "      <td>...</td>\n",
              "      <td>0</td>\n",
              "      <td>0</td>\n",
              "      <td>0</td>\n",
              "      <td>0</td>\n",
              "      <td>NaN</td>\n",
              "      <td>NaN</td>\n",
              "      <td>NaN</td>\n",
              "      <td>NaN</td>\n",
              "      <td>NaN</td>\n",
              "      <td>NaN</td>\n",
              "    </tr>\n",
              "    <tr>\n",
              "      <th>4</th>\n",
              "      <td>100007</td>\n",
              "      <td>0</td>\n",
              "      <td>Cash loans</td>\n",
              "      <td>M</td>\n",
              "      <td>N</td>\n",
              "      <td>Y</td>\n",
              "      <td>0</td>\n",
              "      <td>121500.0</td>\n",
              "      <td>513000.0</td>\n",
              "      <td>21865.5</td>\n",
              "      <td>...</td>\n",
              "      <td>0</td>\n",
              "      <td>0</td>\n",
              "      <td>0</td>\n",
              "      <td>0</td>\n",
              "      <td>0.0</td>\n",
              "      <td>0.0</td>\n",
              "      <td>0.0</td>\n",
              "      <td>0.0</td>\n",
              "      <td>0.0</td>\n",
              "      <td>0.0</td>\n",
              "    </tr>\n",
              "  </tbody>\n",
              "</table>\n",
              "<p>5 rows × 122 columns</p>\n",
              "</div>\n",
              "    <div class=\"colab-df-buttons\">\n",
              "\n",
              "  <div class=\"colab-df-container\">\n",
              "    <button class=\"colab-df-convert\" onclick=\"convertToInteractive('df-22761bbb-21d8-4dfc-92ed-84560972cccd')\"\n",
              "            title=\"Convert this dataframe to an interactive table.\"\n",
              "            style=\"display:none;\">\n",
              "\n",
              "  <svg xmlns=\"http://www.w3.org/2000/svg\" height=\"24px\" viewBox=\"0 -960 960 960\">\n",
              "    <path d=\"M120-120v-720h720v720H120Zm60-500h600v-160H180v160Zm220 220h160v-160H400v160Zm0 220h160v-160H400v160ZM180-400h160v-160H180v160Zm440 0h160v-160H620v160ZM180-180h160v-160H180v160Zm440 0h160v-160H620v160Z\"/>\n",
              "  </svg>\n",
              "    </button>\n",
              "\n",
              "  <style>\n",
              "    .colab-df-container {\n",
              "      display:flex;\n",
              "      gap: 12px;\n",
              "    }\n",
              "\n",
              "    .colab-df-convert {\n",
              "      background-color: #E8F0FE;\n",
              "      border: none;\n",
              "      border-radius: 50%;\n",
              "      cursor: pointer;\n",
              "      display: none;\n",
              "      fill: #1967D2;\n",
              "      height: 32px;\n",
              "      padding: 0 0 0 0;\n",
              "      width: 32px;\n",
              "    }\n",
              "\n",
              "    .colab-df-convert:hover {\n",
              "      background-color: #E2EBFA;\n",
              "      box-shadow: 0px 1px 2px rgba(60, 64, 67, 0.3), 0px 1px 3px 1px rgba(60, 64, 67, 0.15);\n",
              "      fill: #174EA6;\n",
              "    }\n",
              "\n",
              "    .colab-df-buttons div {\n",
              "      margin-bottom: 4px;\n",
              "    }\n",
              "\n",
              "    [theme=dark] .colab-df-convert {\n",
              "      background-color: #3B4455;\n",
              "      fill: #D2E3FC;\n",
              "    }\n",
              "\n",
              "    [theme=dark] .colab-df-convert:hover {\n",
              "      background-color: #434B5C;\n",
              "      box-shadow: 0px 1px 3px 1px rgba(0, 0, 0, 0.15);\n",
              "      filter: drop-shadow(0px 1px 2px rgba(0, 0, 0, 0.3));\n",
              "      fill: #FFFFFF;\n",
              "    }\n",
              "  </style>\n",
              "\n",
              "    <script>\n",
              "      const buttonEl =\n",
              "        document.querySelector('#df-22761bbb-21d8-4dfc-92ed-84560972cccd button.colab-df-convert');\n",
              "      buttonEl.style.display =\n",
              "        google.colab.kernel.accessAllowed ? 'block' : 'none';\n",
              "\n",
              "      async function convertToInteractive(key) {\n",
              "        const element = document.querySelector('#df-22761bbb-21d8-4dfc-92ed-84560972cccd');\n",
              "        const dataTable =\n",
              "          await google.colab.kernel.invokeFunction('convertToInteractive',\n",
              "                                                    [key], {});\n",
              "        if (!dataTable) return;\n",
              "\n",
              "        const docLinkHtml = 'Like what you see? Visit the ' +\n",
              "          '<a target=\"_blank\" href=https://colab.research.google.com/notebooks/data_table.ipynb>data table notebook</a>'\n",
              "          + ' to learn more about interactive tables.';\n",
              "        element.innerHTML = '';\n",
              "        dataTable['output_type'] = 'display_data';\n",
              "        await google.colab.output.renderOutput(dataTable, element);\n",
              "        const docLink = document.createElement('div');\n",
              "        docLink.innerHTML = docLinkHtml;\n",
              "        element.appendChild(docLink);\n",
              "      }\n",
              "    </script>\n",
              "  </div>\n",
              "\n",
              "\n",
              "<div id=\"df-cef319bc-4ca0-4513-a5fd-256b85ebe2df\">\n",
              "  <button class=\"colab-df-quickchart\" onclick=\"quickchart('df-cef319bc-4ca0-4513-a5fd-256b85ebe2df')\"\n",
              "            title=\"Suggest charts\"\n",
              "            style=\"display:none;\">\n",
              "\n",
              "<svg xmlns=\"http://www.w3.org/2000/svg\" height=\"24px\"viewBox=\"0 0 24 24\"\n",
              "     width=\"24px\">\n",
              "    <g>\n",
              "        <path d=\"M19 3H5c-1.1 0-2 .9-2 2v14c0 1.1.9 2 2 2h14c1.1 0 2-.9 2-2V5c0-1.1-.9-2-2-2zM9 17H7v-7h2v7zm4 0h-2V7h2v10zm4 0h-2v-4h2v4z\"/>\n",
              "    </g>\n",
              "</svg>\n",
              "  </button>\n",
              "\n",
              "<style>\n",
              "  .colab-df-quickchart {\n",
              "      --bg-color: #E8F0FE;\n",
              "      --fill-color: #1967D2;\n",
              "      --hover-bg-color: #E2EBFA;\n",
              "      --hover-fill-color: #174EA6;\n",
              "      --disabled-fill-color: #AAA;\n",
              "      --disabled-bg-color: #DDD;\n",
              "  }\n",
              "\n",
              "  [theme=dark] .colab-df-quickchart {\n",
              "      --bg-color: #3B4455;\n",
              "      --fill-color: #D2E3FC;\n",
              "      --hover-bg-color: #434B5C;\n",
              "      --hover-fill-color: #FFFFFF;\n",
              "      --disabled-bg-color: #3B4455;\n",
              "      --disabled-fill-color: #666;\n",
              "  }\n",
              "\n",
              "  .colab-df-quickchart {\n",
              "    background-color: var(--bg-color);\n",
              "    border: none;\n",
              "    border-radius: 50%;\n",
              "    cursor: pointer;\n",
              "    display: none;\n",
              "    fill: var(--fill-color);\n",
              "    height: 32px;\n",
              "    padding: 0;\n",
              "    width: 32px;\n",
              "  }\n",
              "\n",
              "  .colab-df-quickchart:hover {\n",
              "    background-color: var(--hover-bg-color);\n",
              "    box-shadow: 0 1px 2px rgba(60, 64, 67, 0.3), 0 1px 3px 1px rgba(60, 64, 67, 0.15);\n",
              "    fill: var(--button-hover-fill-color);\n",
              "  }\n",
              "\n",
              "  .colab-df-quickchart-complete:disabled,\n",
              "  .colab-df-quickchart-complete:disabled:hover {\n",
              "    background-color: var(--disabled-bg-color);\n",
              "    fill: var(--disabled-fill-color);\n",
              "    box-shadow: none;\n",
              "  }\n",
              "\n",
              "  .colab-df-spinner {\n",
              "    border: 2px solid var(--fill-color);\n",
              "    border-color: transparent;\n",
              "    border-bottom-color: var(--fill-color);\n",
              "    animation:\n",
              "      spin 1s steps(1) infinite;\n",
              "  }\n",
              "\n",
              "  @keyframes spin {\n",
              "    0% {\n",
              "      border-color: transparent;\n",
              "      border-bottom-color: var(--fill-color);\n",
              "      border-left-color: var(--fill-color);\n",
              "    }\n",
              "    20% {\n",
              "      border-color: transparent;\n",
              "      border-left-color: var(--fill-color);\n",
              "      border-top-color: var(--fill-color);\n",
              "    }\n",
              "    30% {\n",
              "      border-color: transparent;\n",
              "      border-left-color: var(--fill-color);\n",
              "      border-top-color: var(--fill-color);\n",
              "      border-right-color: var(--fill-color);\n",
              "    }\n",
              "    40% {\n",
              "      border-color: transparent;\n",
              "      border-right-color: var(--fill-color);\n",
              "      border-top-color: var(--fill-color);\n",
              "    }\n",
              "    60% {\n",
              "      border-color: transparent;\n",
              "      border-right-color: var(--fill-color);\n",
              "    }\n",
              "    80% {\n",
              "      border-color: transparent;\n",
              "      border-right-color: var(--fill-color);\n",
              "      border-bottom-color: var(--fill-color);\n",
              "    }\n",
              "    90% {\n",
              "      border-color: transparent;\n",
              "      border-bottom-color: var(--fill-color);\n",
              "    }\n",
              "  }\n",
              "</style>\n",
              "\n",
              "  <script>\n",
              "    async function quickchart(key) {\n",
              "      const quickchartButtonEl =\n",
              "        document.querySelector('#' + key + ' button');\n",
              "      quickchartButtonEl.disabled = true;  // To prevent multiple clicks.\n",
              "      quickchartButtonEl.classList.add('colab-df-spinner');\n",
              "      try {\n",
              "        const charts = await google.colab.kernel.invokeFunction(\n",
              "            'suggestCharts', [key], {});\n",
              "      } catch (error) {\n",
              "        console.error('Error during call to suggestCharts:', error);\n",
              "      }\n",
              "      quickchartButtonEl.classList.remove('colab-df-spinner');\n",
              "      quickchartButtonEl.classList.add('colab-df-quickchart-complete');\n",
              "    }\n",
              "    (() => {\n",
              "      let quickchartButtonEl =\n",
              "        document.querySelector('#df-cef319bc-4ca0-4513-a5fd-256b85ebe2df button');\n",
              "      quickchartButtonEl.style.display =\n",
              "        google.colab.kernel.accessAllowed ? 'block' : 'none';\n",
              "    })();\n",
              "  </script>\n",
              "</div>\n",
              "\n",
              "    </div>\n",
              "  </div>\n"
            ],
            "application/vnd.google.colaboratory.intrinsic+json": {
              "type": "dataframe",
              "variable_name": "df"
            }
          },
          "metadata": {},
          "execution_count": 3
        }
      ],
      "source": [
        "df = pd.read_csv('/content/drive/My Drive/application_data.csv')\n",
        "df.head()"
      ],
      "id": "019081ec"
    },
    {
      "cell_type": "code",
      "execution_count": 4,
      "metadata": {
        "colab": {
          "base_uri": "https://localhost:8080/"
        },
        "id": "b66436d8",
        "outputId": "d798999c-e99b-468a-c5f8-1b05c1f8b298"
      },
      "outputs": [
        {
          "output_type": "execute_result",
          "data": {
            "text/plain": [
              "(307511, 122)"
            ]
          },
          "metadata": {},
          "execution_count": 4
        }
      ],
      "source": [
        "df.shape"
      ],
      "id": "b66436d8"
    },
    {
      "cell_type": "code",
      "execution_count": 5,
      "metadata": {
        "colab": {
          "base_uri": "https://localhost:8080/"
        },
        "id": "107115ea",
        "outputId": "42ec5463-8a3a-42d9-dd3b-0009a7936c72",
        "scrolled": true
      },
      "outputs": [
        {
          "output_type": "execute_result",
          "data": {
            "text/plain": [
              "SK_ID_CURR                    307511\n",
              "TARGET                             2\n",
              "NAME_CONTRACT_TYPE                 2\n",
              "CODE_GENDER                        3\n",
              "FLAG_OWN_CAR                       2\n",
              "                               ...  \n",
              "AMT_REQ_CREDIT_BUREAU_DAY          9\n",
              "AMT_REQ_CREDIT_BUREAU_WEEK         9\n",
              "AMT_REQ_CREDIT_BUREAU_MON         24\n",
              "AMT_REQ_CREDIT_BUREAU_QRT         11\n",
              "AMT_REQ_CREDIT_BUREAU_YEAR        25\n",
              "Length: 122, dtype: int64"
            ]
          },
          "metadata": {},
          "execution_count": 5
        }
      ],
      "source": [
        "df.nunique()"
      ],
      "id": "107115ea"
    },
    {
      "cell_type": "code",
      "execution_count": 6,
      "metadata": {
        "colab": {
          "base_uri": "https://localhost:8080/"
        },
        "id": "d46d3eab",
        "outputId": "fc4be066-9415-44de-dce7-1e43cf160171"
      },
      "outputs": [
        {
          "output_type": "execute_result",
          "data": {
            "text/plain": [
              "64"
            ]
          },
          "metadata": {},
          "execution_count": 6
        }
      ],
      "source": [
        "# find bad columns (columns with more than 30% null values)\n",
        "\n",
        "badcol=df.isnull().sum()\n",
        "badcol=badcol[badcol.values>(0.3*len(badcol))]\n",
        "len(badcol)"
      ],
      "id": "d46d3eab"
    },
    {
      "cell_type": "code",
      "execution_count": 7,
      "metadata": {
        "colab": {
          "base_uri": "https://localhost:8080/"
        },
        "id": "d9c2a0da",
        "outputId": "925a86b7-35a3-4879-fbad-426696e23664"
      },
      "outputs": [
        {
          "output_type": "stream",
          "name": "stdout",
          "text": [
            "64\n"
          ]
        }
      ],
      "source": [
        "# drop bad columns\n",
        "badcol = list(badcol[badcol.values>=0.3].index)\n",
        "df.drop(labels=badcol,axis=1,inplace=True)\n",
        "print(len(badcol))"
      ],
      "id": "d9c2a0da"
    },
    {
      "cell_type": "code",
      "execution_count": 8,
      "metadata": {
        "colab": {
          "base_uri": "https://localhost:8080/"
        },
        "id": "c4f38a2a",
        "outputId": "e0f1e9c2-b14e-4129-b399-2495858b14f8",
        "scrolled": true
      },
      "outputs": [
        {
          "output_type": "execute_result",
          "data": {
            "text/plain": [
              "SK_ID_CURR                     False\n",
              "TARGET                         False\n",
              "NAME_CONTRACT_TYPE             False\n",
              "CODE_GENDER                    False\n",
              "FLAG_OWN_CAR                   False\n",
              "FLAG_OWN_REALTY                False\n",
              "CNT_CHILDREN                   False\n",
              "AMT_INCOME_TOTAL               False\n",
              "AMT_CREDIT                     False\n",
              "AMT_ANNUITY                    False\n",
              "NAME_INCOME_TYPE               False\n",
              "NAME_EDUCATION_TYPE            False\n",
              "NAME_FAMILY_STATUS             False\n",
              "NAME_HOUSING_TYPE              False\n",
              "REGION_POPULATION_RELATIVE     False\n",
              "DAYS_BIRTH                     False\n",
              "DAYS_EMPLOYED                  False\n",
              "DAYS_REGISTRATION              False\n",
              "DAYS_ID_PUBLISH                False\n",
              "FLAG_MOBIL                     False\n",
              "FLAG_EMP_PHONE                 False\n",
              "FLAG_WORK_PHONE                False\n",
              "FLAG_CONT_MOBILE               False\n",
              "FLAG_PHONE                     False\n",
              "FLAG_EMAIL                     False\n",
              "CNT_FAM_MEMBERS                False\n",
              "REGION_RATING_CLIENT           False\n",
              "REGION_RATING_CLIENT_W_CITY    False\n",
              "WEEKDAY_APPR_PROCESS_START     False\n",
              "HOUR_APPR_PROCESS_START        False\n",
              "REG_REGION_NOT_LIVE_REGION     False\n",
              "REG_REGION_NOT_WORK_REGION     False\n",
              "LIVE_REGION_NOT_WORK_REGION    False\n",
              "REG_CITY_NOT_LIVE_CITY         False\n",
              "REG_CITY_NOT_WORK_CITY         False\n",
              "LIVE_CITY_NOT_WORK_CITY        False\n",
              "ORGANIZATION_TYPE              False\n",
              "DAYS_LAST_PHONE_CHANGE         False\n",
              "FLAG_DOCUMENT_2                False\n",
              "FLAG_DOCUMENT_3                False\n",
              "FLAG_DOCUMENT_4                False\n",
              "FLAG_DOCUMENT_5                False\n",
              "FLAG_DOCUMENT_6                False\n",
              "FLAG_DOCUMENT_7                False\n",
              "FLAG_DOCUMENT_8                False\n",
              "FLAG_DOCUMENT_9                False\n",
              "FLAG_DOCUMENT_10               False\n",
              "FLAG_DOCUMENT_11               False\n",
              "FLAG_DOCUMENT_12               False\n",
              "FLAG_DOCUMENT_13               False\n",
              "FLAG_DOCUMENT_14               False\n",
              "FLAG_DOCUMENT_15               False\n",
              "FLAG_DOCUMENT_16               False\n",
              "FLAG_DOCUMENT_17               False\n",
              "FLAG_DOCUMENT_18               False\n",
              "FLAG_DOCUMENT_19               False\n",
              "FLAG_DOCUMENT_20               False\n",
              "FLAG_DOCUMENT_21               False\n",
              "dtype: bool"
            ]
          },
          "metadata": {},
          "execution_count": 8
        }
      ],
      "source": [
        "# double check for bad columns\n",
        "df.isnull().sum()/len(df)*100 > 0.3"
      ],
      "id": "c4f38a2a"
    },
    {
      "cell_type": "code",
      "execution_count": 9,
      "metadata": {
        "colab": {
          "base_uri": "https://localhost:8080/"
        },
        "id": "de695471",
        "outputId": "ec0fb6d7-aef9-4c59-c36f-e5546c2654c2",
        "scrolled": true
      },
      "outputs": [
        {
          "output_type": "execute_result",
          "data": {
            "text/plain": [
              "SK_ID_CURR                      0\n",
              "TARGET                          0\n",
              "NAME_CONTRACT_TYPE              0\n",
              "CODE_GENDER                     0\n",
              "FLAG_OWN_CAR                    0\n",
              "FLAG_OWN_REALTY                 0\n",
              "CNT_CHILDREN                    0\n",
              "AMT_INCOME_TOTAL                0\n",
              "AMT_CREDIT                      0\n",
              "AMT_ANNUITY                    12\n",
              "NAME_INCOME_TYPE                0\n",
              "NAME_EDUCATION_TYPE             0\n",
              "NAME_FAMILY_STATUS              0\n",
              "NAME_HOUSING_TYPE               0\n",
              "REGION_POPULATION_RELATIVE      0\n",
              "DAYS_BIRTH                      0\n",
              "DAYS_EMPLOYED                   0\n",
              "DAYS_REGISTRATION               0\n",
              "DAYS_ID_PUBLISH                 0\n",
              "FLAG_MOBIL                      0\n",
              "FLAG_EMP_PHONE                  0\n",
              "FLAG_WORK_PHONE                 0\n",
              "FLAG_CONT_MOBILE                0\n",
              "FLAG_PHONE                      0\n",
              "FLAG_EMAIL                      0\n",
              "CNT_FAM_MEMBERS                 2\n",
              "REGION_RATING_CLIENT            0\n",
              "REGION_RATING_CLIENT_W_CITY     0\n",
              "WEEKDAY_APPR_PROCESS_START      0\n",
              "HOUR_APPR_PROCESS_START         0\n",
              "REG_REGION_NOT_LIVE_REGION      0\n",
              "REG_REGION_NOT_WORK_REGION      0\n",
              "LIVE_REGION_NOT_WORK_REGION     0\n",
              "REG_CITY_NOT_LIVE_CITY          0\n",
              "REG_CITY_NOT_WORK_CITY          0\n",
              "LIVE_CITY_NOT_WORK_CITY         0\n",
              "ORGANIZATION_TYPE               0\n",
              "DAYS_LAST_PHONE_CHANGE          1\n",
              "FLAG_DOCUMENT_2                 0\n",
              "FLAG_DOCUMENT_3                 0\n",
              "FLAG_DOCUMENT_4                 0\n",
              "FLAG_DOCUMENT_5                 0\n",
              "FLAG_DOCUMENT_6                 0\n",
              "FLAG_DOCUMENT_7                 0\n",
              "FLAG_DOCUMENT_8                 0\n",
              "FLAG_DOCUMENT_9                 0\n",
              "FLAG_DOCUMENT_10                0\n",
              "FLAG_DOCUMENT_11                0\n",
              "FLAG_DOCUMENT_12                0\n",
              "FLAG_DOCUMENT_13                0\n",
              "FLAG_DOCUMENT_14                0\n",
              "FLAG_DOCUMENT_15                0\n",
              "FLAG_DOCUMENT_16                0\n",
              "FLAG_DOCUMENT_17                0\n",
              "FLAG_DOCUMENT_18                0\n",
              "FLAG_DOCUMENT_19                0\n",
              "FLAG_DOCUMENT_20                0\n",
              "FLAG_DOCUMENT_21                0\n",
              "dtype: int64"
            ]
          },
          "metadata": {},
          "execution_count": 9
        }
      ],
      "source": [
        "# check null value\n",
        "df.isnull().sum()"
      ],
      "id": "de695471"
    },
    {
      "cell_type": "code",
      "execution_count": 10,
      "metadata": {
        "colab": {
          "base_uri": "https://localhost:8080/"
        },
        "id": "04f101e1",
        "outputId": "c807375c-aef8-4dd8-81f0-6feecdcf0324"
      },
      "outputs": [
        {
          "output_type": "execute_result",
          "data": {
            "text/plain": [
              "(307511, 58)"
            ]
          },
          "metadata": {},
          "execution_count": 10
        }
      ],
      "source": [
        "df.shape"
      ],
      "id": "04f101e1"
    },
    {
      "cell_type": "code",
      "execution_count": 11,
      "metadata": {
        "id": "3161a471"
      },
      "outputs": [],
      "source": [
        "# drop all rows with null value\n",
        "df.dropna(axis=0, how='any', inplace=True)"
      ],
      "id": "3161a471"
    },
    {
      "cell_type": "code",
      "execution_count": 12,
      "metadata": {
        "colab": {
          "base_uri": "https://localhost:8080/"
        },
        "id": "4fcb833c",
        "outputId": "5aaed085-1c7c-4905-b7fe-296e6de61f0e"
      },
      "outputs": [
        {
          "output_type": "execute_result",
          "data": {
            "text/plain": [
              "(307496, 58)"
            ]
          },
          "metadata": {},
          "execution_count": 12
        }
      ],
      "source": [
        "df.shape"
      ],
      "id": "4fcb833c"
    },
    {
      "cell_type": "code",
      "execution_count": 13,
      "metadata": {
        "colab": {
          "base_uri": "https://localhost:8080/"
        },
        "id": "_CvsOmfuvygT",
        "outputId": "66795840-8dd2-411f-f1bb-f8614de7e75d"
      },
      "outputs": [
        {
          "output_type": "execute_result",
          "data": {
            "text/plain": [
              "Index(['SK_ID_CURR', 'TARGET', 'NAME_CONTRACT_TYPE', 'CODE_GENDER',\n",
              "       'FLAG_OWN_CAR', 'FLAG_OWN_REALTY', 'CNT_CHILDREN', 'AMT_INCOME_TOTAL',\n",
              "       'AMT_CREDIT', 'AMT_ANNUITY', 'NAME_INCOME_TYPE', 'NAME_EDUCATION_TYPE',\n",
              "       'NAME_FAMILY_STATUS', 'NAME_HOUSING_TYPE', 'REGION_POPULATION_RELATIVE',\n",
              "       'DAYS_BIRTH', 'DAYS_EMPLOYED', 'DAYS_REGISTRATION', 'DAYS_ID_PUBLISH',\n",
              "       'FLAG_MOBIL', 'FLAG_EMP_PHONE', 'FLAG_WORK_PHONE', 'FLAG_CONT_MOBILE',\n",
              "       'FLAG_PHONE', 'FLAG_EMAIL', 'CNT_FAM_MEMBERS', 'REGION_RATING_CLIENT',\n",
              "       'REGION_RATING_CLIENT_W_CITY', 'WEEKDAY_APPR_PROCESS_START',\n",
              "       'HOUR_APPR_PROCESS_START', 'REG_REGION_NOT_LIVE_REGION',\n",
              "       'REG_REGION_NOT_WORK_REGION', 'LIVE_REGION_NOT_WORK_REGION',\n",
              "       'REG_CITY_NOT_LIVE_CITY', 'REG_CITY_NOT_WORK_CITY',\n",
              "       'LIVE_CITY_NOT_WORK_CITY', 'ORGANIZATION_TYPE',\n",
              "       'DAYS_LAST_PHONE_CHANGE', 'FLAG_DOCUMENT_2', 'FLAG_DOCUMENT_3',\n",
              "       'FLAG_DOCUMENT_4', 'FLAG_DOCUMENT_5', 'FLAG_DOCUMENT_6',\n",
              "       'FLAG_DOCUMENT_7', 'FLAG_DOCUMENT_8', 'FLAG_DOCUMENT_9',\n",
              "       'FLAG_DOCUMENT_10', 'FLAG_DOCUMENT_11', 'FLAG_DOCUMENT_12',\n",
              "       'FLAG_DOCUMENT_13', 'FLAG_DOCUMENT_14', 'FLAG_DOCUMENT_15',\n",
              "       'FLAG_DOCUMENT_16', 'FLAG_DOCUMENT_17', 'FLAG_DOCUMENT_18',\n",
              "       'FLAG_DOCUMENT_19', 'FLAG_DOCUMENT_20', 'FLAG_DOCUMENT_21'],\n",
              "      dtype='object')"
            ]
          },
          "metadata": {},
          "execution_count": 13
        }
      ],
      "source": [
        "df.columns"
      ],
      "id": "_CvsOmfuvygT"
    },
    {
      "cell_type": "code",
      "execution_count": 14,
      "metadata": {
        "id": "a13c755f"
      },
      "outputs": [],
      "source": [
        "# remove useless columns\n",
        "\n",
        "no_columns =['FLAG_MOBIL', 'FLAG_EMP_PHONE', 'FLAG_WORK_PHONE', 'FLAG_CONT_MOBILE',\n",
        "       'FLAG_PHONE', 'FLAG_EMAIL','REGION_RATING_CLIENT','REGION_RATING_CLIENT_W_CITY','FLAG_EMAIL','CNT_FAM_MEMBERS', 'REGION_RATING_CLIENT',\n",
        "       'REGION_RATING_CLIENT_W_CITY','DAYS_LAST_PHONE_CHANGE', 'FLAG_DOCUMENT_2', 'FLAG_DOCUMENT_3','FLAG_DOCUMENT_4', 'FLAG_DOCUMENT_5', 'FLAG_DOCUMENT_6',\n",
        "       'FLAG_DOCUMENT_7', 'FLAG_DOCUMENT_8', 'FLAG_DOCUMENT_9','FLAG_DOCUMENT_10', 'FLAG_DOCUMENT_11', 'FLAG_DOCUMENT_12',\n",
        "       'FLAG_DOCUMENT_13', 'FLAG_DOCUMENT_14', 'FLAG_DOCUMENT_15','FLAG_DOCUMENT_16', 'FLAG_DOCUMENT_17', 'FLAG_DOCUMENT_18',\n",
        "       'FLAG_DOCUMENT_19', 'FLAG_DOCUMENT_20', 'FLAG_DOCUMENT_21']\n",
        "\n",
        "df.drop(labels=no_columns, axis=1, inplace=True)"
      ],
      "id": "a13c755f"
    },
    {
      "cell_type": "code",
      "execution_count": 15,
      "metadata": {
        "colab": {
          "base_uri": "https://localhost:8080/"
        },
        "id": "8ea005c8",
        "outputId": "e8cfc1cc-9cc5-4f58-f957-c98e1b06674e"
      },
      "outputs": [
        {
          "output_type": "execute_result",
          "data": {
            "text/plain": [
              "(307496, 28)"
            ]
          },
          "metadata": {},
          "execution_count": 15
        }
      ],
      "source": [
        "df.shape"
      ],
      "id": "8ea005c8"
    },
    {
      "cell_type": "code",
      "execution_count": 16,
      "metadata": {
        "colab": {
          "base_uri": "https://localhost:8080/"
        },
        "id": "4b178b6b",
        "outputId": "9d5a5bb2-61a5-49d5-fbea-efbe6934c4a9"
      },
      "outputs": [
        {
          "output_type": "execute_result",
          "data": {
            "text/plain": [
              "SK_ID_CURR                     307496\n",
              "TARGET                              2\n",
              "NAME_CONTRACT_TYPE                  2\n",
              "CODE_GENDER                         3\n",
              "FLAG_OWN_CAR                        2\n",
              "FLAG_OWN_REALTY                     2\n",
              "CNT_CHILDREN                       15\n",
              "AMT_INCOME_TOTAL                 2548\n",
              "AMT_CREDIT                       5603\n",
              "AMT_ANNUITY                     13672\n",
              "NAME_INCOME_TYPE                    8\n",
              "NAME_EDUCATION_TYPE                 5\n",
              "NAME_FAMILY_STATUS                  5\n",
              "NAME_HOUSING_TYPE                   6\n",
              "REGION_POPULATION_RELATIVE         81\n",
              "DAYS_BIRTH                      17460\n",
              "DAYS_EMPLOYED                   12574\n",
              "DAYS_REGISTRATION               15688\n",
              "DAYS_ID_PUBLISH                  6168\n",
              "WEEKDAY_APPR_PROCESS_START          7\n",
              "HOUR_APPR_PROCESS_START            24\n",
              "REG_REGION_NOT_LIVE_REGION          2\n",
              "REG_REGION_NOT_WORK_REGION          2\n",
              "LIVE_REGION_NOT_WORK_REGION         2\n",
              "REG_CITY_NOT_LIVE_CITY              2\n",
              "REG_CITY_NOT_WORK_CITY              2\n",
              "LIVE_CITY_NOT_WORK_CITY             2\n",
              "ORGANIZATION_TYPE                  58\n",
              "dtype: int64"
            ]
          },
          "metadata": {},
          "execution_count": 16
        }
      ],
      "source": [
        "df.nunique()"
      ],
      "id": "4b178b6b"
    },
    {
      "cell_type": "code",
      "execution_count": 17,
      "metadata": {
        "colab": {
          "base_uri": "https://localhost:8080/"
        },
        "id": "a7d7b4ce",
        "outputId": "49a545a6-dc07-4a19-a571-e90ddb319044"
      },
      "outputs": [
        {
          "output_type": "execute_result",
          "data": {
            "text/plain": [
              "F      202439\n",
              "M      105053\n",
              "XNA         4\n",
              "Name: CODE_GENDER, dtype: int64"
            ]
          },
          "metadata": {},
          "execution_count": 17
        }
      ],
      "source": [
        "df['CODE_GENDER'].value_counts()"
      ],
      "id": "a7d7b4ce"
    },
    {
      "cell_type": "code",
      "execution_count": 18,
      "metadata": {
        "colab": {
          "base_uri": "https://localhost:8080/"
        },
        "id": "6d6fcb20",
        "outputId": "6ac60fc6-e253-4d8e-a3b2-26165ec5c5f3"
      },
      "outputs": [
        {
          "output_type": "execute_result",
          "data": {
            "text/plain": [
              "F    202443\n",
              "M    105053\n",
              "Name: CODE_GENDER, dtype: int64"
            ]
          },
          "metadata": {},
          "execution_count": 18
        }
      ],
      "source": [
        "# Updating the column 'CODE_GENDER' with \"F\" for the dataset\n",
        "\n",
        "df.loc[df['CODE_GENDER']=='XNA','CODE_GENDER']='F'\n",
        "df['CODE_GENDER'].value_counts()"
      ],
      "id": "6d6fcb20"
    },
    {
      "cell_type": "code",
      "execution_count": 19,
      "metadata": {
        "colab": {
          "base_uri": "https://localhost:8080/"
        },
        "id": "3963eb2e",
        "outputId": "af4a6db3-db52-4ccb-85bb-c612cdd77ee4"
      },
      "outputs": [
        {
          "output_type": "execute_result",
          "data": {
            "text/plain": [
              "(0, 28)"
            ]
          },
          "metadata": {},
          "execution_count": 19
        }
      ],
      "source": [
        "# Drop the rows have 'XNA' values in the organization type column\n",
        "\n",
        "df=df.drop(df.loc[df['ORGANIZATION_TYPE']=='XNA'].index)\n",
        "df[df['ORGANIZATION_TYPE']=='XNA'].shape"
      ],
      "id": "3963eb2e"
    },
    {
      "cell_type": "code",
      "execution_count": 20,
      "metadata": {
        "colab": {
          "base_uri": "https://localhost:8080/"
        },
        "id": "c830f9cb",
        "outputId": "2628eaad-bb3e-481a-b6ad-a5bd7f8e105e"
      },
      "outputs": [
        {
          "output_type": "execute_result",
          "data": {
            "text/plain": [
              "(252122, 28)"
            ]
          },
          "metadata": {},
          "execution_count": 20
        }
      ],
      "source": [
        "df.shape"
      ],
      "id": "c830f9cb"
    },
    {
      "cell_type": "code",
      "execution_count": 21,
      "metadata": {
        "id": "-8gScI4QvygZ"
      },
      "outputs": [],
      "source": [
        "new_df1 = df"
      ],
      "id": "-8gScI4QvygZ"
    },
    {
      "cell_type": "code",
      "execution_count": 22,
      "metadata": {
        "colab": {
          "base_uri": "https://localhost:8080/"
        },
        "id": "PaskMUvF2fyh",
        "outputId": "4302ddc9-2a78-406b-a8c4-4bffeb09f900"
      },
      "outputs": [
        {
          "output_type": "stream",
          "name": "stdout",
          "text": [
            "['SK_ID_CURR', 'TARGET', 'NAME_CONTRACT_TYPE', 'CODE_GENDER', 'FLAG_OWN_CAR', 'FLAG_OWN_REALTY', 'CNT_CHILDREN', 'AMT_INCOME_TOTAL', 'AMT_CREDIT', 'AMT_ANNUITY', 'NAME_INCOME_TYPE', 'NAME_EDUCATION_TYPE', 'NAME_FAMILY_STATUS', 'NAME_HOUSING_TYPE', 'REGION_POPULATION_RELATIVE', 'DAYS_BIRTH', 'DAYS_EMPLOYED', 'DAYS_REGISTRATION', 'DAYS_ID_PUBLISH', 'WEEKDAY_APPR_PROCESS_START', 'HOUR_APPR_PROCESS_START', 'REG_REGION_NOT_LIVE_REGION', 'REG_REGION_NOT_WORK_REGION', 'LIVE_REGION_NOT_WORK_REGION', 'REG_CITY_NOT_LIVE_CITY', 'REG_CITY_NOT_WORK_CITY', 'LIVE_CITY_NOT_WORK_CITY', 'ORGANIZATION_TYPE']\n"
          ]
        }
      ],
      "source": [
        "column_names = new_df1.columns.tolist()\n",
        "\n",
        "print(column_names)"
      ],
      "id": "PaskMUvF2fyh"
    },
    {
      "cell_type": "code",
      "execution_count": 23,
      "metadata": {
        "colab": {
          "base_uri": "https://localhost:8080/"
        },
        "id": "di_xvE3i3EVa",
        "outputId": "189b6653-b5f4-48ec-f627-a4efc6f19c9c"
      },
      "outputs": [
        {
          "output_type": "stream",
          "name": "stdout",
          "text": [
            "['SK_ID_CURR', 'NAME_CONTRACT_TYPE', 'CODE_GENDER', 'FLAG_OWN_CAR', 'FLAG_OWN_REALTY', 'CNT_CHILDREN', 'AMT_INCOME_TOTAL', 'AMT_CREDIT', 'AMT_ANNUITY', 'NAME_INCOME_TYPE', 'NAME_EDUCATION_TYPE', 'NAME_FAMILY_STATUS', 'NAME_HOUSING_TYPE', 'REGION_POPULATION_RELATIVE', 'DAYS_BIRTH', 'DAYS_EMPLOYED', 'DAYS_REGISTRATION', 'DAYS_ID_PUBLISH', 'WEEKDAY_APPR_PROCESS_START', 'HOUR_APPR_PROCESS_START', 'REG_REGION_NOT_LIVE_REGION', 'REG_REGION_NOT_WORK_REGION', 'LIVE_REGION_NOT_WORK_REGION', 'REG_CITY_NOT_LIVE_CITY', 'REG_CITY_NOT_WORK_CITY', 'LIVE_CITY_NOT_WORK_CITY', 'ORGANIZATION_TYPE']\n"
          ]
        }
      ],
      "source": [
        "features = new_df1.drop('TARGET', axis=1).columns.tolist()\n",
        "print(features)\n",
        "\n",
        "target = 'TARGET'"
      ],
      "id": "di_xvE3i3EVa"
    },
    {
      "cell_type": "code",
      "execution_count": 24,
      "metadata": {
        "colab": {
          "base_uri": "https://localhost:8080/"
        },
        "id": "KgqMz26S3Rkg",
        "outputId": "7ae93454-3c68-4b69-8f0c-0b446ca765c5",
        "scrolled": true
      },
      "outputs": [
        {
          "output_type": "stream",
          "name": "stdout",
          "text": [
            "SK_ID_CURR                       int64\n",
            "TARGET                           int64\n",
            "NAME_CONTRACT_TYPE              object\n",
            "CODE_GENDER                     object\n",
            "FLAG_OWN_CAR                    object\n",
            "FLAG_OWN_REALTY                 object\n",
            "CNT_CHILDREN                     int64\n",
            "AMT_INCOME_TOTAL               float64\n",
            "AMT_CREDIT                     float64\n",
            "AMT_ANNUITY                    float64\n",
            "NAME_INCOME_TYPE                object\n",
            "NAME_EDUCATION_TYPE             object\n",
            "NAME_FAMILY_STATUS              object\n",
            "NAME_HOUSING_TYPE               object\n",
            "REGION_POPULATION_RELATIVE     float64\n",
            "DAYS_BIRTH                       int64\n",
            "DAYS_EMPLOYED                    int64\n",
            "DAYS_REGISTRATION              float64\n",
            "DAYS_ID_PUBLISH                  int64\n",
            "WEEKDAY_APPR_PROCESS_START      object\n",
            "HOUR_APPR_PROCESS_START          int64\n",
            "REG_REGION_NOT_LIVE_REGION       int64\n",
            "REG_REGION_NOT_WORK_REGION       int64\n",
            "LIVE_REGION_NOT_WORK_REGION      int64\n",
            "REG_CITY_NOT_LIVE_CITY           int64\n",
            "REG_CITY_NOT_WORK_CITY           int64\n",
            "LIVE_CITY_NOT_WORK_CITY          int64\n",
            "ORGANIZATION_TYPE               object\n",
            "dtype: object\n"
          ]
        }
      ],
      "source": [
        "data_types = new_df1.dtypes\n",
        "\n",
        "print(data_types)"
      ],
      "id": "KgqMz26S3Rkg"
    },
    {
      "cell_type": "code",
      "execution_count": 25,
      "metadata": {
        "colab": {
          "base_uri": "https://localhost:8080/"
        },
        "id": "0vKe29Il3mXw",
        "outputId": "a60914be-9872-4cf7-b64b-3894b61b24d5"
      },
      "outputs": [
        {
          "output_type": "stream",
          "name": "stdout",
          "text": [
            "Numerical columns: ['SK_ID_CURR', 'TARGET', 'CNT_CHILDREN', 'AMT_INCOME_TOTAL', 'AMT_CREDIT', 'AMT_ANNUITY', 'REGION_POPULATION_RELATIVE', 'DAYS_BIRTH', 'DAYS_EMPLOYED', 'DAYS_REGISTRATION', 'DAYS_ID_PUBLISH', 'HOUR_APPR_PROCESS_START', 'REG_REGION_NOT_LIVE_REGION', 'REG_REGION_NOT_WORK_REGION', 'LIVE_REGION_NOT_WORK_REGION', 'REG_CITY_NOT_LIVE_CITY', 'REG_CITY_NOT_WORK_CITY', 'LIVE_CITY_NOT_WORK_CITY']\n",
            "Descriptive columns: ['NAME_CONTRACT_TYPE', 'CODE_GENDER', 'FLAG_OWN_CAR', 'FLAG_OWN_REALTY', 'NAME_INCOME_TYPE', 'NAME_EDUCATION_TYPE', 'NAME_FAMILY_STATUS', 'NAME_HOUSING_TYPE', 'WEEKDAY_APPR_PROCESS_START', 'ORGANIZATION_TYPE']\n"
          ]
        }
      ],
      "source": [
        "numerical_cols = new_df1.select_dtypes(include=['int64', 'float64']).columns.tolist()\n",
        "descriptive_cols = new_df1.select_dtypes(include=['object']).columns.tolist()\n",
        "\n",
        "print(\"Numerical columns:\", numerical_cols)\n",
        "print(\"Descriptive columns:\", descriptive_cols)"
      ],
      "id": "0vKe29Il3mXw"
    },
    {
      "cell_type": "code",
      "execution_count": 26,
      "metadata": {
        "colab": {
          "base_uri": "https://localhost:8080/"
        },
        "id": "UBXKfU7e4Eba",
        "outputId": "076f95b6-a58c-4823-cad4-52dea6f19bdf"
      },
      "outputs": [
        {
          "output_type": "stream",
          "name": "stdout",
          "text": [
            "Percentage of Approvals: 8.66%\n",
            "Percentage of Rejections: 91.34%\n"
          ]
        }
      ],
      "source": [
        "application_counts = new_df1[target].value_counts()\n",
        "\n",
        "approval_percentage = application_counts[1] / application_counts.sum() * 100\n",
        "rejection_percentage = application_counts[0] / application_counts.sum() * 100\n",
        "\n",
        "print(f\"Percentage of Approvals: {approval_percentage:.2f}%\")\n",
        "print(f\"Percentage of Rejections: {rejection_percentage:.2f}%\")"
      ],
      "id": "UBXKfU7e4Eba"
    },
    {
      "cell_type": "code",
      "execution_count": 27,
      "metadata": {
        "colab": {
          "base_uri": "https://localhost:8080/"
        },
        "id": "bnLxD2iw4O-4",
        "outputId": "215089d5-f3ac-47c9-d9ac-5c648372a6fd"
      },
      "outputs": [
        {
          "output_type": "stream",
          "name": "stdout",
          "text": [
            "Percentage of Approvals: 50.00%\n",
            "Percentage of Rejections: 50.00%\n"
          ]
        },
        {
          "output_type": "stream",
          "name": "stderr",
          "text": [
            "<ipython-input-27-a85f49326c9b>:8: FutureWarning: The frame.append method is deprecated and will be removed from pandas in a future version. Use pandas.concat instead.\n",
            "  new_df2 = approved_raw.append(rejected)\n"
          ]
        }
      ],
      "source": [
        "approved_raw = new_df1[new_df1[target] == 1]\n",
        "rejected_raw = new_df1[new_df1[target] == 0]\n",
        "\n",
        "percentage = len(approved_raw) / float(len(rejected_raw))\n",
        "\n",
        "rejected = rejected_raw.sample(frac=percentage, random_state=1)\n",
        "\n",
        "new_df2 = approved_raw.append(rejected)\n",
        "\n",
        "application_counts = new_df2[target].value_counts()\n",
        "approval_percentage = application_counts[0] / application_counts.sum() * 100\n",
        "rejection_percentage = application_counts[1] / application_counts.sum() * 100\n",
        "\n",
        "print(f\"Percentage of Approvals: {approval_percentage:.2f}%\")\n",
        "print(f\"Percentage of Rejections: {rejection_percentage:.2f}%\")"
      ],
      "id": "bnLxD2iw4O-4"
    },
    {
      "cell_type": "code",
      "execution_count": 28,
      "metadata": {
        "colab": {
          "base_uri": "https://localhost:8080/"
        },
        "id": "p-pz14iY4bqg",
        "outputId": "d3082909-3c73-4e0e-f31a-7f800131b64b"
      },
      "outputs": [
        {
          "output_type": "execute_result",
          "data": {
            "text/plain": [
              "(43670, 28)"
            ]
          },
          "metadata": {},
          "execution_count": 28
        }
      ],
      "source": [
        "new_df2.shape"
      ],
      "id": "p-pz14iY4bqg"
    },
    {
      "cell_type": "code",
      "execution_count": 29,
      "metadata": {
        "colab": {
          "base_uri": "https://localhost:8080/"
        },
        "id": "7F9Xvase4fyJ",
        "outputId": "92bbed59-c7c2-4fc6-d8c1-0efe148ad1f9"
      },
      "outputs": [
        {
          "output_type": "execute_result",
          "data": {
            "text/plain": [
              "(252122, 28)"
            ]
          },
          "metadata": {},
          "execution_count": 29
        }
      ],
      "source": [
        "new_df1.shape"
      ],
      "id": "7F9Xvase4fyJ"
    },
    {
      "cell_type": "code",
      "execution_count": 30,
      "metadata": {
        "colab": {
          "base_uri": "https://localhost:8080/"
        },
        "id": "hlV9TRQU5IwJ",
        "outputId": "ecd16513-7ea8-48d6-ae33-f67b2ea49419",
        "scrolled": true
      },
      "outputs": [
        {
          "output_type": "stream",
          "name": "stdout",
          "text": [
            "NAME_CONTRACT_TYPE             2\n",
            "CODE_GENDER                    2\n",
            "FLAG_OWN_CAR                   2\n",
            "FLAG_OWN_REALTY                2\n",
            "NAME_INCOME_TYPE               6\n",
            "NAME_EDUCATION_TYPE            5\n",
            "NAME_FAMILY_STATUS             5\n",
            "NAME_HOUSING_TYPE              6\n",
            "WEEKDAY_APPR_PROCESS_START     7\n",
            "ORGANIZATION_TYPE             57\n",
            "dtype: int64\n"
          ]
        }
      ],
      "source": [
        "unique_values = new_df2[descriptive_cols].nunique()\n",
        "\n",
        "print(unique_values)"
      ],
      "id": "hlV9TRQU5IwJ"
    },
    {
      "cell_type": "code",
      "execution_count": 31,
      "metadata": {
        "colab": {
          "base_uri": "https://localhost:8080/"
        },
        "id": "WV78Smrm4zpZ",
        "outputId": "4f29ed6b-8087-45a1-a67d-ec9e0dbc1950"
      },
      "outputs": [
        {
          "output_type": "execute_result",
          "data": {
            "text/plain": [
              "(43670, 112)"
            ]
          },
          "metadata": {},
          "execution_count": 31
        }
      ],
      "source": [
        "new_df3 = pd.get_dummies(new_df2)\n",
        "new_df3.shape"
      ],
      "id": "WV78Smrm4zpZ"
    },
    {
      "cell_type": "code",
      "execution_count": 32,
      "metadata": {
        "colab": {
          "base_uri": "https://localhost:8080/"
        },
        "id": "B0GXm7oJvygb",
        "outputId": "eb3aa25f-7626-430e-a53e-b76c2755d0f5"
      },
      "outputs": [
        {
          "output_type": "execute_result",
          "data": {
            "text/plain": [
              "Index(['SK_ID_CURR', 'TARGET', 'CNT_CHILDREN', 'AMT_INCOME_TOTAL',\n",
              "       'AMT_CREDIT', 'AMT_ANNUITY', 'REGION_POPULATION_RELATIVE', 'DAYS_BIRTH',\n",
              "       'DAYS_EMPLOYED', 'DAYS_REGISTRATION',\n",
              "       ...\n",
              "       'ORGANIZATION_TYPE_Trade: type 3', 'ORGANIZATION_TYPE_Trade: type 4',\n",
              "       'ORGANIZATION_TYPE_Trade: type 5', 'ORGANIZATION_TYPE_Trade: type 6',\n",
              "       'ORGANIZATION_TYPE_Trade: type 7',\n",
              "       'ORGANIZATION_TYPE_Transport: type 1',\n",
              "       'ORGANIZATION_TYPE_Transport: type 2',\n",
              "       'ORGANIZATION_TYPE_Transport: type 3',\n",
              "       'ORGANIZATION_TYPE_Transport: type 4', 'ORGANIZATION_TYPE_University'],\n",
              "      dtype='object', length=112)"
            ]
          },
          "metadata": {},
          "execution_count": 32
        }
      ],
      "source": [
        "new_df3.columns"
      ],
      "id": "B0GXm7oJvygb"
    },
    {
      "cell_type": "code",
      "execution_count": 39,
      "metadata": {
        "id": "KQk7c3Gvvygd"
      },
      "outputs": [],
      "source": [
        "df_f = new_df3[new_df3['CODE_GENDER_F']== 1]"
      ],
      "id": "KQk7c3Gvvygd"
    },
    {
      "cell_type": "code",
      "execution_count": 40,
      "metadata": {
        "colab": {
          "base_uri": "https://localhost:8080/",
          "height": 273
        },
        "id": "20MxxJRNvygd",
        "outputId": "aebeaff2-596c-45d1-a366-e82368733ad5"
      },
      "outputs": [
        {
          "output_type": "execute_result",
          "data": {
            "text/plain": [
              "     SK_ID_CURR  TARGET  CNT_CHILDREN  AMT_INCOME_TOTAL  AMT_CREDIT  \\\n",
              "26       100031       1             0          112500.0    979992.0   \n",
              "42       100049       1             0          135000.0    288873.0   \n",
              "110      100130       1             1          157500.0    723996.0   \n",
              "154      100181       1             0          157500.0    245619.0   \n",
              "163      100192       1             0          111915.0    225000.0   \n",
              "\n",
              "     AMT_ANNUITY  REGION_POPULATION_RELATIVE  DAYS_BIRTH  DAYS_EMPLOYED  \\\n",
              "26       27076.5                    0.018029      -18724          -2628   \n",
              "42       16258.5                    0.007305      -13384          -3597   \n",
              "110      30802.5                    0.007274      -10526           -267   \n",
              "154      12667.5                    0.022625      -17538          -7676   \n",
              "163      21037.5                    0.018801       -7989           -150   \n",
              "\n",
              "     DAYS_REGISTRATION  ...  ORGANIZATION_TYPE_Trade: type 3  \\\n",
              "26             -6573.0  ...                                0   \n",
              "42               -45.0  ...                                0   \n",
              "110             -387.0  ...                                0   \n",
              "154             -774.0  ...                                0   \n",
              "163            -2570.0  ...                                1   \n",
              "\n",
              "     ORGANIZATION_TYPE_Trade: type 4  ORGANIZATION_TYPE_Trade: type 5  \\\n",
              "26                                 0                                0   \n",
              "42                                 0                                0   \n",
              "110                                0                                0   \n",
              "154                                0                                0   \n",
              "163                                0                                0   \n",
              "\n",
              "     ORGANIZATION_TYPE_Trade: type 6  ORGANIZATION_TYPE_Trade: type 7  \\\n",
              "26                                 0                                0   \n",
              "42                                 0                                0   \n",
              "110                                0                                0   \n",
              "154                                0                                0   \n",
              "163                                0                                0   \n",
              "\n",
              "     ORGANIZATION_TYPE_Transport: type 1  ORGANIZATION_TYPE_Transport: type 2  \\\n",
              "26                                     0                                    0   \n",
              "42                                     0                                    0   \n",
              "110                                    0                                    0   \n",
              "154                                    0                                    0   \n",
              "163                                    0                                    0   \n",
              "\n",
              "     ORGANIZATION_TYPE_Transport: type 3  ORGANIZATION_TYPE_Transport: type 4  \\\n",
              "26                                     0                                    0   \n",
              "42                                     0                                    0   \n",
              "110                                    0                                    0   \n",
              "154                                    0                                    0   \n",
              "163                                    0                                    0   \n",
              "\n",
              "     ORGANIZATION_TYPE_University  \n",
              "26                              0  \n",
              "42                              0  \n",
              "110                             0  \n",
              "154                             0  \n",
              "163                             0  \n",
              "\n",
              "[5 rows x 112 columns]"
            ],
            "text/html": [
              "\n",
              "  <div id=\"df-593f4547-a1f1-4d5f-9c96-e76559accdf3\" class=\"colab-df-container\">\n",
              "    <div>\n",
              "<style scoped>\n",
              "    .dataframe tbody tr th:only-of-type {\n",
              "        vertical-align: middle;\n",
              "    }\n",
              "\n",
              "    .dataframe tbody tr th {\n",
              "        vertical-align: top;\n",
              "    }\n",
              "\n",
              "    .dataframe thead th {\n",
              "        text-align: right;\n",
              "    }\n",
              "</style>\n",
              "<table border=\"1\" class=\"dataframe\">\n",
              "  <thead>\n",
              "    <tr style=\"text-align: right;\">\n",
              "      <th></th>\n",
              "      <th>SK_ID_CURR</th>\n",
              "      <th>TARGET</th>\n",
              "      <th>CNT_CHILDREN</th>\n",
              "      <th>AMT_INCOME_TOTAL</th>\n",
              "      <th>AMT_CREDIT</th>\n",
              "      <th>AMT_ANNUITY</th>\n",
              "      <th>REGION_POPULATION_RELATIVE</th>\n",
              "      <th>DAYS_BIRTH</th>\n",
              "      <th>DAYS_EMPLOYED</th>\n",
              "      <th>DAYS_REGISTRATION</th>\n",
              "      <th>...</th>\n",
              "      <th>ORGANIZATION_TYPE_Trade: type 3</th>\n",
              "      <th>ORGANIZATION_TYPE_Trade: type 4</th>\n",
              "      <th>ORGANIZATION_TYPE_Trade: type 5</th>\n",
              "      <th>ORGANIZATION_TYPE_Trade: type 6</th>\n",
              "      <th>ORGANIZATION_TYPE_Trade: type 7</th>\n",
              "      <th>ORGANIZATION_TYPE_Transport: type 1</th>\n",
              "      <th>ORGANIZATION_TYPE_Transport: type 2</th>\n",
              "      <th>ORGANIZATION_TYPE_Transport: type 3</th>\n",
              "      <th>ORGANIZATION_TYPE_Transport: type 4</th>\n",
              "      <th>ORGANIZATION_TYPE_University</th>\n",
              "    </tr>\n",
              "  </thead>\n",
              "  <tbody>\n",
              "    <tr>\n",
              "      <th>26</th>\n",
              "      <td>100031</td>\n",
              "      <td>1</td>\n",
              "      <td>0</td>\n",
              "      <td>112500.0</td>\n",
              "      <td>979992.0</td>\n",
              "      <td>27076.5</td>\n",
              "      <td>0.018029</td>\n",
              "      <td>-18724</td>\n",
              "      <td>-2628</td>\n",
              "      <td>-6573.0</td>\n",
              "      <td>...</td>\n",
              "      <td>0</td>\n",
              "      <td>0</td>\n",
              "      <td>0</td>\n",
              "      <td>0</td>\n",
              "      <td>0</td>\n",
              "      <td>0</td>\n",
              "      <td>0</td>\n",
              "      <td>0</td>\n",
              "      <td>0</td>\n",
              "      <td>0</td>\n",
              "    </tr>\n",
              "    <tr>\n",
              "      <th>42</th>\n",
              "      <td>100049</td>\n",
              "      <td>1</td>\n",
              "      <td>0</td>\n",
              "      <td>135000.0</td>\n",
              "      <td>288873.0</td>\n",
              "      <td>16258.5</td>\n",
              "      <td>0.007305</td>\n",
              "      <td>-13384</td>\n",
              "      <td>-3597</td>\n",
              "      <td>-45.0</td>\n",
              "      <td>...</td>\n",
              "      <td>0</td>\n",
              "      <td>0</td>\n",
              "      <td>0</td>\n",
              "      <td>0</td>\n",
              "      <td>0</td>\n",
              "      <td>0</td>\n",
              "      <td>0</td>\n",
              "      <td>0</td>\n",
              "      <td>0</td>\n",
              "      <td>0</td>\n",
              "    </tr>\n",
              "    <tr>\n",
              "      <th>110</th>\n",
              "      <td>100130</td>\n",
              "      <td>1</td>\n",
              "      <td>1</td>\n",
              "      <td>157500.0</td>\n",
              "      <td>723996.0</td>\n",
              "      <td>30802.5</td>\n",
              "      <td>0.007274</td>\n",
              "      <td>-10526</td>\n",
              "      <td>-267</td>\n",
              "      <td>-387.0</td>\n",
              "      <td>...</td>\n",
              "      <td>0</td>\n",
              "      <td>0</td>\n",
              "      <td>0</td>\n",
              "      <td>0</td>\n",
              "      <td>0</td>\n",
              "      <td>0</td>\n",
              "      <td>0</td>\n",
              "      <td>0</td>\n",
              "      <td>0</td>\n",
              "      <td>0</td>\n",
              "    </tr>\n",
              "    <tr>\n",
              "      <th>154</th>\n",
              "      <td>100181</td>\n",
              "      <td>1</td>\n",
              "      <td>0</td>\n",
              "      <td>157500.0</td>\n",
              "      <td>245619.0</td>\n",
              "      <td>12667.5</td>\n",
              "      <td>0.022625</td>\n",
              "      <td>-17538</td>\n",
              "      <td>-7676</td>\n",
              "      <td>-774.0</td>\n",
              "      <td>...</td>\n",
              "      <td>0</td>\n",
              "      <td>0</td>\n",
              "      <td>0</td>\n",
              "      <td>0</td>\n",
              "      <td>0</td>\n",
              "      <td>0</td>\n",
              "      <td>0</td>\n",
              "      <td>0</td>\n",
              "      <td>0</td>\n",
              "      <td>0</td>\n",
              "    </tr>\n",
              "    <tr>\n",
              "      <th>163</th>\n",
              "      <td>100192</td>\n",
              "      <td>1</td>\n",
              "      <td>0</td>\n",
              "      <td>111915.0</td>\n",
              "      <td>225000.0</td>\n",
              "      <td>21037.5</td>\n",
              "      <td>0.018801</td>\n",
              "      <td>-7989</td>\n",
              "      <td>-150</td>\n",
              "      <td>-2570.0</td>\n",
              "      <td>...</td>\n",
              "      <td>1</td>\n",
              "      <td>0</td>\n",
              "      <td>0</td>\n",
              "      <td>0</td>\n",
              "      <td>0</td>\n",
              "      <td>0</td>\n",
              "      <td>0</td>\n",
              "      <td>0</td>\n",
              "      <td>0</td>\n",
              "      <td>0</td>\n",
              "    </tr>\n",
              "  </tbody>\n",
              "</table>\n",
              "<p>5 rows × 112 columns</p>\n",
              "</div>\n",
              "    <div class=\"colab-df-buttons\">\n",
              "\n",
              "  <div class=\"colab-df-container\">\n",
              "    <button class=\"colab-df-convert\" onclick=\"convertToInteractive('df-593f4547-a1f1-4d5f-9c96-e76559accdf3')\"\n",
              "            title=\"Convert this dataframe to an interactive table.\"\n",
              "            style=\"display:none;\">\n",
              "\n",
              "  <svg xmlns=\"http://www.w3.org/2000/svg\" height=\"24px\" viewBox=\"0 -960 960 960\">\n",
              "    <path d=\"M120-120v-720h720v720H120Zm60-500h600v-160H180v160Zm220 220h160v-160H400v160Zm0 220h160v-160H400v160ZM180-400h160v-160H180v160Zm440 0h160v-160H620v160ZM180-180h160v-160H180v160Zm440 0h160v-160H620v160Z\"/>\n",
              "  </svg>\n",
              "    </button>\n",
              "\n",
              "  <style>\n",
              "    .colab-df-container {\n",
              "      display:flex;\n",
              "      gap: 12px;\n",
              "    }\n",
              "\n",
              "    .colab-df-convert {\n",
              "      background-color: #E8F0FE;\n",
              "      border: none;\n",
              "      border-radius: 50%;\n",
              "      cursor: pointer;\n",
              "      display: none;\n",
              "      fill: #1967D2;\n",
              "      height: 32px;\n",
              "      padding: 0 0 0 0;\n",
              "      width: 32px;\n",
              "    }\n",
              "\n",
              "    .colab-df-convert:hover {\n",
              "      background-color: #E2EBFA;\n",
              "      box-shadow: 0px 1px 2px rgba(60, 64, 67, 0.3), 0px 1px 3px 1px rgba(60, 64, 67, 0.15);\n",
              "      fill: #174EA6;\n",
              "    }\n",
              "\n",
              "    .colab-df-buttons div {\n",
              "      margin-bottom: 4px;\n",
              "    }\n",
              "\n",
              "    [theme=dark] .colab-df-convert {\n",
              "      background-color: #3B4455;\n",
              "      fill: #D2E3FC;\n",
              "    }\n",
              "\n",
              "    [theme=dark] .colab-df-convert:hover {\n",
              "      background-color: #434B5C;\n",
              "      box-shadow: 0px 1px 3px 1px rgba(0, 0, 0, 0.15);\n",
              "      filter: drop-shadow(0px 1px 2px rgba(0, 0, 0, 0.3));\n",
              "      fill: #FFFFFF;\n",
              "    }\n",
              "  </style>\n",
              "\n",
              "    <script>\n",
              "      const buttonEl =\n",
              "        document.querySelector('#df-593f4547-a1f1-4d5f-9c96-e76559accdf3 button.colab-df-convert');\n",
              "      buttonEl.style.display =\n",
              "        google.colab.kernel.accessAllowed ? 'block' : 'none';\n",
              "\n",
              "      async function convertToInteractive(key) {\n",
              "        const element = document.querySelector('#df-593f4547-a1f1-4d5f-9c96-e76559accdf3');\n",
              "        const dataTable =\n",
              "          await google.colab.kernel.invokeFunction('convertToInteractive',\n",
              "                                                    [key], {});\n",
              "        if (!dataTable) return;\n",
              "\n",
              "        const docLinkHtml = 'Like what you see? Visit the ' +\n",
              "          '<a target=\"_blank\" href=https://colab.research.google.com/notebooks/data_table.ipynb>data table notebook</a>'\n",
              "          + ' to learn more about interactive tables.';\n",
              "        element.innerHTML = '';\n",
              "        dataTable['output_type'] = 'display_data';\n",
              "        await google.colab.output.renderOutput(dataTable, element);\n",
              "        const docLink = document.createElement('div');\n",
              "        docLink.innerHTML = docLinkHtml;\n",
              "        element.appendChild(docLink);\n",
              "      }\n",
              "    </script>\n",
              "  </div>\n",
              "\n",
              "\n",
              "<div id=\"df-496e488b-4814-45e4-87ea-c8133cd37940\">\n",
              "  <button class=\"colab-df-quickchart\" onclick=\"quickchart('df-496e488b-4814-45e4-87ea-c8133cd37940')\"\n",
              "            title=\"Suggest charts\"\n",
              "            style=\"display:none;\">\n",
              "\n",
              "<svg xmlns=\"http://www.w3.org/2000/svg\" height=\"24px\"viewBox=\"0 0 24 24\"\n",
              "     width=\"24px\">\n",
              "    <g>\n",
              "        <path d=\"M19 3H5c-1.1 0-2 .9-2 2v14c0 1.1.9 2 2 2h14c1.1 0 2-.9 2-2V5c0-1.1-.9-2-2-2zM9 17H7v-7h2v7zm4 0h-2V7h2v10zm4 0h-2v-4h2v4z\"/>\n",
              "    </g>\n",
              "</svg>\n",
              "  </button>\n",
              "\n",
              "<style>\n",
              "  .colab-df-quickchart {\n",
              "      --bg-color: #E8F0FE;\n",
              "      --fill-color: #1967D2;\n",
              "      --hover-bg-color: #E2EBFA;\n",
              "      --hover-fill-color: #174EA6;\n",
              "      --disabled-fill-color: #AAA;\n",
              "      --disabled-bg-color: #DDD;\n",
              "  }\n",
              "\n",
              "  [theme=dark] .colab-df-quickchart {\n",
              "      --bg-color: #3B4455;\n",
              "      --fill-color: #D2E3FC;\n",
              "      --hover-bg-color: #434B5C;\n",
              "      --hover-fill-color: #FFFFFF;\n",
              "      --disabled-bg-color: #3B4455;\n",
              "      --disabled-fill-color: #666;\n",
              "  }\n",
              "\n",
              "  .colab-df-quickchart {\n",
              "    background-color: var(--bg-color);\n",
              "    border: none;\n",
              "    border-radius: 50%;\n",
              "    cursor: pointer;\n",
              "    display: none;\n",
              "    fill: var(--fill-color);\n",
              "    height: 32px;\n",
              "    padding: 0;\n",
              "    width: 32px;\n",
              "  }\n",
              "\n",
              "  .colab-df-quickchart:hover {\n",
              "    background-color: var(--hover-bg-color);\n",
              "    box-shadow: 0 1px 2px rgba(60, 64, 67, 0.3), 0 1px 3px 1px rgba(60, 64, 67, 0.15);\n",
              "    fill: var(--button-hover-fill-color);\n",
              "  }\n",
              "\n",
              "  .colab-df-quickchart-complete:disabled,\n",
              "  .colab-df-quickchart-complete:disabled:hover {\n",
              "    background-color: var(--disabled-bg-color);\n",
              "    fill: var(--disabled-fill-color);\n",
              "    box-shadow: none;\n",
              "  }\n",
              "\n",
              "  .colab-df-spinner {\n",
              "    border: 2px solid var(--fill-color);\n",
              "    border-color: transparent;\n",
              "    border-bottom-color: var(--fill-color);\n",
              "    animation:\n",
              "      spin 1s steps(1) infinite;\n",
              "  }\n",
              "\n",
              "  @keyframes spin {\n",
              "    0% {\n",
              "      border-color: transparent;\n",
              "      border-bottom-color: var(--fill-color);\n",
              "      border-left-color: var(--fill-color);\n",
              "    }\n",
              "    20% {\n",
              "      border-color: transparent;\n",
              "      border-left-color: var(--fill-color);\n",
              "      border-top-color: var(--fill-color);\n",
              "    }\n",
              "    30% {\n",
              "      border-color: transparent;\n",
              "      border-left-color: var(--fill-color);\n",
              "      border-top-color: var(--fill-color);\n",
              "      border-right-color: var(--fill-color);\n",
              "    }\n",
              "    40% {\n",
              "      border-color: transparent;\n",
              "      border-right-color: var(--fill-color);\n",
              "      border-top-color: var(--fill-color);\n",
              "    }\n",
              "    60% {\n",
              "      border-color: transparent;\n",
              "      border-right-color: var(--fill-color);\n",
              "    }\n",
              "    80% {\n",
              "      border-color: transparent;\n",
              "      border-right-color: var(--fill-color);\n",
              "      border-bottom-color: var(--fill-color);\n",
              "    }\n",
              "    90% {\n",
              "      border-color: transparent;\n",
              "      border-bottom-color: var(--fill-color);\n",
              "    }\n",
              "  }\n",
              "</style>\n",
              "\n",
              "  <script>\n",
              "    async function quickchart(key) {\n",
              "      const quickchartButtonEl =\n",
              "        document.querySelector('#' + key + ' button');\n",
              "      quickchartButtonEl.disabled = true;  // To prevent multiple clicks.\n",
              "      quickchartButtonEl.classList.add('colab-df-spinner');\n",
              "      try {\n",
              "        const charts = await google.colab.kernel.invokeFunction(\n",
              "            'suggestCharts', [key], {});\n",
              "      } catch (error) {\n",
              "        console.error('Error during call to suggestCharts:', error);\n",
              "      }\n",
              "      quickchartButtonEl.classList.remove('colab-df-spinner');\n",
              "      quickchartButtonEl.classList.add('colab-df-quickchart-complete');\n",
              "    }\n",
              "    (() => {\n",
              "      let quickchartButtonEl =\n",
              "        document.querySelector('#df-496e488b-4814-45e4-87ea-c8133cd37940 button');\n",
              "      quickchartButtonEl.style.display =\n",
              "        google.colab.kernel.accessAllowed ? 'block' : 'none';\n",
              "    })();\n",
              "  </script>\n",
              "</div>\n",
              "\n",
              "    </div>\n",
              "  </div>\n"
            ],
            "application/vnd.google.colaboratory.intrinsic+json": {
              "type": "dataframe",
              "variable_name": "df_f"
            }
          },
          "metadata": {},
          "execution_count": 40
        }
      ],
      "source": [
        "df_f.head()"
      ],
      "id": "20MxxJRNvygd"
    },
    {
      "cell_type": "code",
      "execution_count": 41,
      "metadata": {
        "colab": {
          "base_uri": "https://localhost:8080/"
        },
        "id": "jGJiYMRl6JwQ",
        "outputId": "ead4ab24-c3cc-416d-cfc0-f8ce2be5b334"
      },
      "outputs": [
        {
          "output_type": "stream",
          "name": "stdout",
          "text": [
            "Number of instances in the training set: 18460\n",
            "Number of instances in the validation set: 4616\n",
            "Number of instances in the test set: 2564\n"
          ]
        }
      ],
      "source": [
        "from sklearn.model_selection import train_test_split\n",
        "train_validate, test = train_test_split(df_f, test_size=0.1, random_state=0)\n",
        "\n",
        "train, validate = train_test_split(train_validate, test_size=0.2, random_state=0)\n",
        "\n",
        "print(f\"Number of instances in the training set: {len(train)}\")\n",
        "print(f\"Number of instances in the validation set: {len(validate)}\")\n",
        "print(f\"Number of instances in the test set: {len(test)}\")"
      ],
      "id": "jGJiYMRl6JwQ"
    },
    {
      "cell_type": "code",
      "execution_count": 42,
      "metadata": {
        "colab": {
          "base_uri": "https://localhost:8080/"
        },
        "id": "tl3_DLQW6jbI",
        "outputId": "d18e05d2-ca02-429a-df6d-a5d259bc4cdd",
        "scrolled": true
      },
      "outputs": [
        {
          "output_type": "stream",
          "name": "stdout",
          "text": [
            "['SK_ID_CURR', 'CNT_CHILDREN', 'AMT_INCOME_TOTAL', 'AMT_CREDIT', 'AMT_ANNUITY', 'REGION_POPULATION_RELATIVE', 'DAYS_BIRTH', 'DAYS_EMPLOYED', 'DAYS_REGISTRATION', 'DAYS_ID_PUBLISH', 'HOUR_APPR_PROCESS_START', 'REG_REGION_NOT_LIVE_REGION', 'REG_REGION_NOT_WORK_REGION', 'LIVE_REGION_NOT_WORK_REGION', 'REG_CITY_NOT_LIVE_CITY', 'REG_CITY_NOT_WORK_CITY', 'LIVE_CITY_NOT_WORK_CITY', 'NAME_CONTRACT_TYPE_Cash loans', 'NAME_CONTRACT_TYPE_Revolving loans', 'CODE_GENDER_F', 'CODE_GENDER_M', 'FLAG_OWN_CAR_N', 'FLAG_OWN_CAR_Y', 'FLAG_OWN_REALTY_N', 'FLAG_OWN_REALTY_Y', 'NAME_INCOME_TYPE_Commercial associate', 'NAME_INCOME_TYPE_Maternity leave', 'NAME_INCOME_TYPE_Pensioner', 'NAME_INCOME_TYPE_State servant', 'NAME_INCOME_TYPE_Student', 'NAME_INCOME_TYPE_Working', 'NAME_EDUCATION_TYPE_Academic degree', 'NAME_EDUCATION_TYPE_Higher education', 'NAME_EDUCATION_TYPE_Incomplete higher', 'NAME_EDUCATION_TYPE_Lower secondary', 'NAME_EDUCATION_TYPE_Secondary / secondary special', 'NAME_FAMILY_STATUS_Civil marriage', 'NAME_FAMILY_STATUS_Married', 'NAME_FAMILY_STATUS_Separated', 'NAME_FAMILY_STATUS_Single / not married', 'NAME_FAMILY_STATUS_Widow', 'NAME_HOUSING_TYPE_Co-op apartment', 'NAME_HOUSING_TYPE_House / apartment', 'NAME_HOUSING_TYPE_Municipal apartment', 'NAME_HOUSING_TYPE_Office apartment', 'NAME_HOUSING_TYPE_Rented apartment', 'NAME_HOUSING_TYPE_With parents', 'WEEKDAY_APPR_PROCESS_START_FRIDAY', 'WEEKDAY_APPR_PROCESS_START_MONDAY', 'WEEKDAY_APPR_PROCESS_START_SATURDAY', 'WEEKDAY_APPR_PROCESS_START_SUNDAY', 'WEEKDAY_APPR_PROCESS_START_THURSDAY', 'WEEKDAY_APPR_PROCESS_START_TUESDAY', 'WEEKDAY_APPR_PROCESS_START_WEDNESDAY', 'ORGANIZATION_TYPE_Advertising', 'ORGANIZATION_TYPE_Agriculture', 'ORGANIZATION_TYPE_Bank', 'ORGANIZATION_TYPE_Business Entity Type 1', 'ORGANIZATION_TYPE_Business Entity Type 2', 'ORGANIZATION_TYPE_Business Entity Type 3', 'ORGANIZATION_TYPE_Cleaning', 'ORGANIZATION_TYPE_Construction', 'ORGANIZATION_TYPE_Culture', 'ORGANIZATION_TYPE_Electricity', 'ORGANIZATION_TYPE_Emergency', 'ORGANIZATION_TYPE_Government', 'ORGANIZATION_TYPE_Hotel', 'ORGANIZATION_TYPE_Housing', 'ORGANIZATION_TYPE_Industry: type 1', 'ORGANIZATION_TYPE_Industry: type 10', 'ORGANIZATION_TYPE_Industry: type 11', 'ORGANIZATION_TYPE_Industry: type 12', 'ORGANIZATION_TYPE_Industry: type 13', 'ORGANIZATION_TYPE_Industry: type 2', 'ORGANIZATION_TYPE_Industry: type 3', 'ORGANIZATION_TYPE_Industry: type 4', 'ORGANIZATION_TYPE_Industry: type 5', 'ORGANIZATION_TYPE_Industry: type 6', 'ORGANIZATION_TYPE_Industry: type 7', 'ORGANIZATION_TYPE_Industry: type 8', 'ORGANIZATION_TYPE_Industry: type 9', 'ORGANIZATION_TYPE_Insurance', 'ORGANIZATION_TYPE_Kindergarten', 'ORGANIZATION_TYPE_Legal Services', 'ORGANIZATION_TYPE_Medicine', 'ORGANIZATION_TYPE_Military', 'ORGANIZATION_TYPE_Mobile', 'ORGANIZATION_TYPE_Other', 'ORGANIZATION_TYPE_Police', 'ORGANIZATION_TYPE_Postal', 'ORGANIZATION_TYPE_Realtor', 'ORGANIZATION_TYPE_Religion', 'ORGANIZATION_TYPE_Restaurant', 'ORGANIZATION_TYPE_School', 'ORGANIZATION_TYPE_Security', 'ORGANIZATION_TYPE_Security Ministries', 'ORGANIZATION_TYPE_Self-employed', 'ORGANIZATION_TYPE_Services', 'ORGANIZATION_TYPE_Telecom', 'ORGANIZATION_TYPE_Trade: type 1', 'ORGANIZATION_TYPE_Trade: type 2', 'ORGANIZATION_TYPE_Trade: type 3', 'ORGANIZATION_TYPE_Trade: type 4', 'ORGANIZATION_TYPE_Trade: type 5', 'ORGANIZATION_TYPE_Trade: type 6', 'ORGANIZATION_TYPE_Trade: type 7', 'ORGANIZATION_TYPE_Transport: type 1', 'ORGANIZATION_TYPE_Transport: type 2', 'ORGANIZATION_TYPE_Transport: type 3', 'ORGANIZATION_TYPE_Transport: type 4', 'ORGANIZATION_TYPE_University']\n"
          ]
        }
      ],
      "source": [
        "features = df_f.drop('TARGET', axis=1).columns.tolist()\n",
        "print(features)\n",
        "\n",
        "target = 'TARGET'"
      ],
      "id": "tl3_DLQW6jbI"
    },
    {
      "cell_type": "code",
      "execution_count": 43,
      "metadata": {
        "id": "M1Yk18vBvyge"
      },
      "outputs": [],
      "source": [
        "features = train.drop(target, axis=1).columns\n",
        "X_train = train[features]\n",
        "y_train = train[target]\n",
        "X_validate = validate[features]\n",
        "y_validate = validate[target]\n",
        "X_test = test[features]\n",
        "y_test = test[target]"
      ],
      "id": "M1Yk18vBvyge"
    },
    {
      "cell_type": "code",
      "execution_count": 44,
      "metadata": {
        "colab": {
          "base_uri": "https://localhost:8080/"
        },
        "id": "a4hWg6Cpvyge",
        "outputId": "0035f1c8-30d6-4e41-a94e-7d67286fadba"
      },
      "outputs": [
        {
          "output_type": "stream",
          "name": "stderr",
          "text": [
            "<ipython-input-44-0df1e1599357>:2: FutureWarning: The default value of regex will change from True to False in a future version.\n",
            "  df_f.columns = df_f.columns.str.replace('[^\\w\\s]', '')\n",
            "<ipython-input-44-0df1e1599357>:3: FutureWarning: The default value of regex will change from True to False in a future version.\n",
            "  df_f.columns = df_f.columns.str.replace('\\s+', '_')\n",
            "<ipython-input-44-0df1e1599357>:2: FutureWarning: The default value of regex will change from True to False in a future version.\n",
            "  df_f.columns = df_f.columns.str.replace('[^\\w\\s]', '')\n",
            "<ipython-input-44-0df1e1599357>:3: FutureWarning: The default value of regex will change from True to False in a future version.\n",
            "  df_f.columns = df_f.columns.str.replace('\\s+', '_')\n"
          ]
        }
      ],
      "source": [
        "def clean_column_names(df_f):\n",
        "    df_f.columns = df_f.columns.str.replace('[^\\w\\s]', '')\n",
        "    df_f.columns = df_f.columns.str.replace('\\s+', '_')\n",
        "    df_f.columns = df_f.columns.str.strip()\n",
        "    df_f.columns = df_f.columns.str.lower()\n",
        "    return df_f\n",
        "\n",
        "\n",
        "X_train2 = clean_column_names(X_train)\n",
        "X_test2 = clean_column_names(X_test)"
      ],
      "id": "a4hWg6Cpvyge"
    },
    {
      "cell_type": "code",
      "execution_count": 45,
      "metadata": {
        "scrolled": true,
        "colab": {
          "base_uri": "https://localhost:8080/"
        },
        "id": "beAKhfSFvyge",
        "outputId": "76f72b50-aab6-4de0-e1d3-f5988ebea0e7"
      },
      "outputs": [
        {
          "output_type": "execute_result",
          "data": {
            "text/plain": [
              "array([dtype('int64'), dtype('float64'), dtype('uint8')], dtype=object)"
            ]
          },
          "metadata": {},
          "execution_count": 45
        }
      ],
      "source": [
        "df_f.dtypes.unique()"
      ],
      "id": "beAKhfSFvyge"
    },
    {
      "cell_type": "code",
      "execution_count": 46,
      "metadata": {
        "colab": {
          "base_uri": "https://localhost:8080/"
        },
        "id": "Jh0oISCBvyge",
        "outputId": "cf6c3f1c-d90a-4d1f-d20b-d55c4f98f493"
      },
      "outputs": [
        {
          "output_type": "execute_result",
          "data": {
            "text/plain": [
              "(25640, 112)"
            ]
          },
          "metadata": {},
          "execution_count": 46
        }
      ],
      "source": [
        "df_f.shape"
      ],
      "id": "Jh0oISCBvyge"
    },
    {
      "cell_type": "code",
      "execution_count": 48,
      "metadata": {
        "scrolled": true,
        "colab": {
          "base_uri": "https://localhost:8080/"
        },
        "id": "LvXxPabKvygf",
        "outputId": "39bc7261-bde4-43d6-9404-6e41ee38bf32"
      },
      "outputs": [
        {
          "output_type": "stream",
          "name": "stdout",
          "text": [
            "[LightGBM] [Info] Number of positive: 8537, number of negative: 9923\n",
            "[LightGBM] [Info] Auto-choosing row-wise multi-threading, the overhead of testing was 0.006883 seconds.\n",
            "You can set `force_row_wise=true` to remove the overhead.\n",
            "And if memory is not enough, you can set `force_col_wise=true`.\n",
            "[LightGBM] [Info] Total Bins 2221\n",
            "[LightGBM] [Info] Number of data points in the train set: 18460, number of used features: 95\n",
            "[LightGBM] [Info] [binary:BoostFromScore]: pavg=0.462459 -> initscore=-0.150446\n",
            "[LightGBM] [Info] Start training from score -0.150446\n",
            "LightGBM - Accuracy on test set: 0.6158\n",
            "Precision: 0.6153050672182007\n",
            "Recall: 0.4925496688741722\n",
            "F1 Score: 0.5471264367816092\n",
            "ROC AUC: 0.6091066928441657\n"
          ]
        }
      ],
      "source": [
        "from lightgbm import LGBMClassifier\n",
        "from sklearn.metrics import precision_score, recall_score, f1_score, roc_auc_score\n",
        "\n",
        "lgbm = LGBMClassifier()\n",
        "lgbm.fit(X_train2, y_train)\n",
        "train_accuracy = lgbm.score(X_train2, y_train)\n",
        "test_accuracy = lgbm.score(X_test2, y_test)\n",
        "print(f\"LightGBM - Accuracy on test set: {test_accuracy:.4f}\")\n",
        "\n",
        "# Predict the labels for the test set\n",
        "y_pred = lgbm.predict(X_test2)\n",
        "\n",
        "# Calculate precision, recall, F1 score, and ROC AUC\n",
        "precision = precision_score(y_test, y_pred)\n",
        "recall = recall_score(y_test, y_pred)\n",
        "f1 = f1_score(y_test, y_pred)\n",
        "roc_auc = roc_auc_score(y_test, y_pred)\n",
        "\n",
        "# Print the results\n",
        "print(f\"Precision: {precision}\")\n",
        "print(f\"Recall: {recall}\")\n",
        "print(f\"F1 Score: {f1}\")\n",
        "print(f\"ROC AUC: {roc_auc}\")"
      ],
      "id": "LvXxPabKvygf"
    },
    {
      "cell_type": "code",
      "source": [
        "df_m = new_df3[new_df3['CODE_GENDER_F']== 0]"
      ],
      "metadata": {
        "id": "5SsOALigxU0_"
      },
      "id": "5SsOALigxU0_",
      "execution_count": 49,
      "outputs": []
    },
    {
      "cell_type": "code",
      "execution_count": 50,
      "metadata": {
        "colab": {
          "base_uri": "https://localhost:8080/"
        },
        "outputId": "9049a7bd-2332-474f-b292-d6ae8045c59b",
        "id": "4rZb7j7rxaiN"
      },
      "outputs": [
        {
          "output_type": "stream",
          "name": "stdout",
          "text": [
            "Number of instances in the training set: 12981\n",
            "Number of instances in the validation set: 3246\n",
            "Number of instances in the test set: 1803\n"
          ]
        }
      ],
      "source": [
        "from sklearn.model_selection import train_test_split\n",
        "train_validate, test = train_test_split(df_m, test_size=0.1, random_state=0)\n",
        "\n",
        "train, validate = train_test_split(train_validate, test_size=0.2, random_state=0)\n",
        "\n",
        "print(f\"Number of instances in the training set: {len(train)}\")\n",
        "print(f\"Number of instances in the validation set: {len(validate)}\")\n",
        "print(f\"Number of instances in the test set: {len(test)}\")"
      ],
      "id": "4rZb7j7rxaiN"
    },
    {
      "cell_type": "code",
      "execution_count": 51,
      "metadata": {
        "colab": {
          "base_uri": "https://localhost:8080/"
        },
        "outputId": "995d951b-d1ed-490f-8902-c705167d3587",
        "scrolled": true,
        "id": "7KE8qiJPxd7i"
      },
      "outputs": [
        {
          "output_type": "stream",
          "name": "stdout",
          "text": [
            "['SK_ID_CURR', 'CNT_CHILDREN', 'AMT_INCOME_TOTAL', 'AMT_CREDIT', 'AMT_ANNUITY', 'REGION_POPULATION_RELATIVE', 'DAYS_BIRTH', 'DAYS_EMPLOYED', 'DAYS_REGISTRATION', 'DAYS_ID_PUBLISH', 'HOUR_APPR_PROCESS_START', 'REG_REGION_NOT_LIVE_REGION', 'REG_REGION_NOT_WORK_REGION', 'LIVE_REGION_NOT_WORK_REGION', 'REG_CITY_NOT_LIVE_CITY', 'REG_CITY_NOT_WORK_CITY', 'LIVE_CITY_NOT_WORK_CITY', 'NAME_CONTRACT_TYPE_Cash loans', 'NAME_CONTRACT_TYPE_Revolving loans', 'CODE_GENDER_F', 'CODE_GENDER_M', 'FLAG_OWN_CAR_N', 'FLAG_OWN_CAR_Y', 'FLAG_OWN_REALTY_N', 'FLAG_OWN_REALTY_Y', 'NAME_INCOME_TYPE_Commercial associate', 'NAME_INCOME_TYPE_Maternity leave', 'NAME_INCOME_TYPE_Pensioner', 'NAME_INCOME_TYPE_State servant', 'NAME_INCOME_TYPE_Student', 'NAME_INCOME_TYPE_Working', 'NAME_EDUCATION_TYPE_Academic degree', 'NAME_EDUCATION_TYPE_Higher education', 'NAME_EDUCATION_TYPE_Incomplete higher', 'NAME_EDUCATION_TYPE_Lower secondary', 'NAME_EDUCATION_TYPE_Secondary / secondary special', 'NAME_FAMILY_STATUS_Civil marriage', 'NAME_FAMILY_STATUS_Married', 'NAME_FAMILY_STATUS_Separated', 'NAME_FAMILY_STATUS_Single / not married', 'NAME_FAMILY_STATUS_Widow', 'NAME_HOUSING_TYPE_Co-op apartment', 'NAME_HOUSING_TYPE_House / apartment', 'NAME_HOUSING_TYPE_Municipal apartment', 'NAME_HOUSING_TYPE_Office apartment', 'NAME_HOUSING_TYPE_Rented apartment', 'NAME_HOUSING_TYPE_With parents', 'WEEKDAY_APPR_PROCESS_START_FRIDAY', 'WEEKDAY_APPR_PROCESS_START_MONDAY', 'WEEKDAY_APPR_PROCESS_START_SATURDAY', 'WEEKDAY_APPR_PROCESS_START_SUNDAY', 'WEEKDAY_APPR_PROCESS_START_THURSDAY', 'WEEKDAY_APPR_PROCESS_START_TUESDAY', 'WEEKDAY_APPR_PROCESS_START_WEDNESDAY', 'ORGANIZATION_TYPE_Advertising', 'ORGANIZATION_TYPE_Agriculture', 'ORGANIZATION_TYPE_Bank', 'ORGANIZATION_TYPE_Business Entity Type 1', 'ORGANIZATION_TYPE_Business Entity Type 2', 'ORGANIZATION_TYPE_Business Entity Type 3', 'ORGANIZATION_TYPE_Cleaning', 'ORGANIZATION_TYPE_Construction', 'ORGANIZATION_TYPE_Culture', 'ORGANIZATION_TYPE_Electricity', 'ORGANIZATION_TYPE_Emergency', 'ORGANIZATION_TYPE_Government', 'ORGANIZATION_TYPE_Hotel', 'ORGANIZATION_TYPE_Housing', 'ORGANIZATION_TYPE_Industry: type 1', 'ORGANIZATION_TYPE_Industry: type 10', 'ORGANIZATION_TYPE_Industry: type 11', 'ORGANIZATION_TYPE_Industry: type 12', 'ORGANIZATION_TYPE_Industry: type 13', 'ORGANIZATION_TYPE_Industry: type 2', 'ORGANIZATION_TYPE_Industry: type 3', 'ORGANIZATION_TYPE_Industry: type 4', 'ORGANIZATION_TYPE_Industry: type 5', 'ORGANIZATION_TYPE_Industry: type 6', 'ORGANIZATION_TYPE_Industry: type 7', 'ORGANIZATION_TYPE_Industry: type 8', 'ORGANIZATION_TYPE_Industry: type 9', 'ORGANIZATION_TYPE_Insurance', 'ORGANIZATION_TYPE_Kindergarten', 'ORGANIZATION_TYPE_Legal Services', 'ORGANIZATION_TYPE_Medicine', 'ORGANIZATION_TYPE_Military', 'ORGANIZATION_TYPE_Mobile', 'ORGANIZATION_TYPE_Other', 'ORGANIZATION_TYPE_Police', 'ORGANIZATION_TYPE_Postal', 'ORGANIZATION_TYPE_Realtor', 'ORGANIZATION_TYPE_Religion', 'ORGANIZATION_TYPE_Restaurant', 'ORGANIZATION_TYPE_School', 'ORGANIZATION_TYPE_Security', 'ORGANIZATION_TYPE_Security Ministries', 'ORGANIZATION_TYPE_Self-employed', 'ORGANIZATION_TYPE_Services', 'ORGANIZATION_TYPE_Telecom', 'ORGANIZATION_TYPE_Trade: type 1', 'ORGANIZATION_TYPE_Trade: type 2', 'ORGANIZATION_TYPE_Trade: type 3', 'ORGANIZATION_TYPE_Trade: type 4', 'ORGANIZATION_TYPE_Trade: type 5', 'ORGANIZATION_TYPE_Trade: type 6', 'ORGANIZATION_TYPE_Trade: type 7', 'ORGANIZATION_TYPE_Transport: type 1', 'ORGANIZATION_TYPE_Transport: type 2', 'ORGANIZATION_TYPE_Transport: type 3', 'ORGANIZATION_TYPE_Transport: type 4', 'ORGANIZATION_TYPE_University']\n"
          ]
        }
      ],
      "source": [
        "features = df_m.drop('TARGET', axis=1).columns.tolist()\n",
        "print(features)\n",
        "\n",
        "target = 'TARGET'"
      ],
      "id": "7KE8qiJPxd7i"
    },
    {
      "cell_type": "code",
      "execution_count": 52,
      "metadata": {
        "id": "5AkjYZj7xip-"
      },
      "outputs": [],
      "source": [
        "features = train.drop(target, axis=1).columns\n",
        "X_train = train[features]\n",
        "y_train = train[target]\n",
        "X_validate = validate[features]\n",
        "y_validate = validate[target]\n",
        "X_test = test[features]\n",
        "y_test = test[target]"
      ],
      "id": "5AkjYZj7xip-"
    },
    {
      "cell_type": "code",
      "source": [
        "X_train3 = clean_column_names(X_train)\n",
        "X_test3 = clean_column_names(X_test)"
      ],
      "metadata": {
        "colab": {
          "base_uri": "https://localhost:8080/"
        },
        "id": "VUzfYf5yxiib",
        "outputId": "7dec4549-3383-4705-c203-afa95301857c"
      },
      "id": "VUzfYf5yxiib",
      "execution_count": 53,
      "outputs": [
        {
          "output_type": "stream",
          "name": "stderr",
          "text": [
            "<ipython-input-44-0df1e1599357>:2: FutureWarning: The default value of regex will change from True to False in a future version.\n",
            "  df_f.columns = df_f.columns.str.replace('[^\\w\\s]', '')\n",
            "<ipython-input-44-0df1e1599357>:3: FutureWarning: The default value of regex will change from True to False in a future version.\n",
            "  df_f.columns = df_f.columns.str.replace('\\s+', '_')\n",
            "<ipython-input-44-0df1e1599357>:2: FutureWarning: The default value of regex will change from True to False in a future version.\n",
            "  df_f.columns = df_f.columns.str.replace('[^\\w\\s]', '')\n",
            "<ipython-input-44-0df1e1599357>:3: FutureWarning: The default value of regex will change from True to False in a future version.\n",
            "  df_f.columns = df_f.columns.str.replace('\\s+', '_')\n"
          ]
        }
      ]
    },
    {
      "cell_type": "code",
      "source": [
        "from lightgbm import LGBMClassifier\n",
        "from sklearn.metrics import precision_score, recall_score, f1_score, roc_auc_score\n",
        "\n",
        "lgbm = LGBMClassifier()\n",
        "lgbm.fit(X_train3, y_train)\n",
        "train_accuracy = lgbm.score(X_train3, y_train)\n",
        "test_accuracy = lgbm.score(X_test3, y_test)\n",
        "print(f\"LightGBM - Accuracy on test set: {test_accuracy:.4f}\")\n",
        "\n",
        "# Predict the labels for the test set\n",
        "y_pred = lgbm.predict(X_test3)\n",
        "\n",
        "# Calculate precision, recall, F1 score, and ROC AUC\n",
        "precision = precision_score(y_test, y_pred)\n",
        "recall = recall_score(y_test, y_pred)\n",
        "f1 = f1_score(y_test, y_pred)\n",
        "roc_auc = roc_auc_score(y_test, y_pred)\n",
        "\n",
        "# Print the results\n",
        "print(f\"Precision: {precision}\")\n",
        "print(f\"Recall: {recall}\")\n",
        "print(f\"F1 Score: {f1}\")\n",
        "print(f\"ROC AUC: {roc_auc}\")"
      ],
      "metadata": {
        "colab": {
          "base_uri": "https://localhost:8080/"
        },
        "id": "Pftge0YhxqDW",
        "outputId": "8156d96c-b372-441f-8724-6c74f492b3c0"
      },
      "id": "Pftge0YhxqDW",
      "execution_count": 54,
      "outputs": [
        {
          "output_type": "stream",
          "name": "stdout",
          "text": [
            "[LightGBM] [Info] Number of positive: 7160, number of negative: 5821\n",
            "[LightGBM] [Info] Auto-choosing row-wise multi-threading, the overhead of testing was 0.023415 seconds.\n",
            "You can set `force_row_wise=true` to remove the overhead.\n",
            "And if memory is not enough, you can set `force_col_wise=true`.\n",
            "[LightGBM] [Info] Total Bins 2198\n",
            "[LightGBM] [Info] Number of data points in the train set: 12981, number of used features: 85\n",
            "[LightGBM] [Info] [binary:BoostFromScore]: pavg=0.551575 -> initscore=0.207038\n",
            "[LightGBM] [Info] Start training from score 0.207038\n",
            "LightGBM - Accuracy on test set: 0.6212\n",
            "Precision: 0.6306228373702422\n",
            "Recall: 0.7401015228426396\n",
            "F1 Score: 0.6809901914992994\n",
            "ROC AUC: 0.6090483164335447\n"
          ]
        }
      ]
    }
  ],
  "metadata": {
    "accelerator": "GPU",
    "colab": {
      "gpuType": "V100",
      "provenance": []
    },
    "kernelspec": {
      "display_name": "Python 3",
      "language": "python",
      "name": "python3"
    },
    "language_info": {
      "codemirror_mode": {
        "name": "ipython",
        "version": 3
      },
      "file_extension": ".py",
      "mimetype": "text/x-python",
      "name": "python",
      "nbconvert_exporter": "python",
      "pygments_lexer": "ipython3",
      "version": "3.6.5"
    }
  },
  "nbformat": 4,
  "nbformat_minor": 5
}